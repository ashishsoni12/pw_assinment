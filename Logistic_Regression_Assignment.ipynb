{
  "nbformat": 4,
  "nbformat_minor": 0,
  "metadata": {
    "colab": {
      "provenance": []
    },
    "kernelspec": {
      "name": "python3",
      "display_name": "Python 3"
    },
    "language_info": {
      "name": "python"
    }
  },
  "cells": [
    {
      "cell_type": "markdown",
      "source": [
        " **Q.1 What is Logistic Regression, and how does it differ from Linear\n",
        "Regression?**\n",
        "\n",
        "Ans:\n",
        "\n",
        "Logistic Regression is a supervised learning algorithm used for classification tasks (not regression, despite its name).\n",
        "\n",
        "It predicts the probability that a given input belongs to a certain class (usually binary: 0 or 1).\n",
        "\n",
        "Instead of fitting a straight line, it uses the logistic (sigmoid) function to squeeze output values into the range [0, 1].\n",
        "\n",
        "👉 Example: Predicting if an email is spam (1) or not spam (0).\n",
        "    p=1/(1+e−(b0​+b1​x))\n",
        "\n",
        "   if p>=0.5 class =1\n",
        "   if p< 0.5 class =0\n",
        "\n",
        "   Use Linear Regression when predicting numbers.\n",
        "\n",
        "Use Logistic Regression when predicting categories.\n",
        "\n"
      ],
      "metadata": {
        "id": "8YNJZnu_5_7g"
      }
    },
    {
      "cell_type": "markdown",
      "source": [
        "**Ques 2: Explain the role of the Sigmoid function in Logistic Regression.**\n",
        "\n",
        "Ans:\n",
        "\n",
        "The sigmoid function acts as a squashing function that transforms the linear output of Logistic Regression into a probability (0–1), enabling classification.\n",
        "\n",
        "\n"
      ],
      "metadata": {
        "id": "JCoGWgyF7uCe"
      }
    },
    {
      "cell_type": "markdown",
      "source": [
        "**Q3. What is Regularization in Logistic Regression and why is it needed?**\n",
        "\n",
        "Ans:\n",
        "\n",
        "Regularization is a technique used to prevent overfitting by adding a penalty term to the cost function (loss function).\n",
        "\n",
        "![image.png](data:image/png;base64,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)\n",
        "\n",
        "Regularization modifies this cost function by adding a penalty on large coefficients (weights).\n",
        "\n",
        "**Types OF regularization**\n",
        "\n",
        "i)L2 Regularization (Ridge)\n",
        "\n",
        "ii)L1 Regularization (Lasso)\n",
        "iii)Elastic Net(L1+L2)\n",
        "\n",
        "\n",
        "Why is Regularization Needed?\n",
        "\n",
        "**Prevents Overfitting:**\n",
        "\n",
        "Without regularization, Logistic Regression may assign very large weights to some features, making the model fit training data too closely but perform poorly on unseen data.\n",
        "\n",
        "**Improves Generalization:**\n",
        "\n",
        "By shrinking coefficients, the model becomes simpler and more robust on new data.\n",
        "\n",
        "**Feature Selection (with L1):**\n",
        "\n",
        "Eliminates irrelevant features by pushing their weights to zero."
      ],
      "metadata": {
        "id": "4YtyspLl9CBR"
      }
    },
    {
      "cell_type": "markdown",
      "source": [
        "**Question4:What are some common evaluation metrics for classification models, and why are they important?**\n",
        "\n",
        "Ans:\n",
        "i)Confusion Matrix\n",
        "ii)Accuracy\n",
        "iii)Precision\n",
        "iv) f-beta score\n",
        "v)True Position Rate\n",
        "vi)False Postive Rate\n",
        "vii) True negative Rate\n",
        "viii) Roc-Auc\n",
        "ix) Recall\n",
        "x) Precison-Recall /Sensitivity -Specificity trade Off.\n",
        "\n",
        "Classification models are evaluated with metrics like Accuracy, Precision, Recall, F1-score, AUC-ROC, Log Loss, and Confusion Matrix. These metrics are important because they provide a deeper understanding of model performance, especially in situations where accuracy alone is misleading.\n",
        "\n"
      ],
      "metadata": {
        "id": "7CTaGKkZ-cTb"
      }
    },
    {
      "cell_type": "code",
      "execution_count": 11,
      "metadata": {
        "colab": {
          "base_uri": "https://localhost:8080/"
        },
        "id": "JO7W1y2q5rs6",
        "outputId": "43a1a55a-56a7-4d4a-c1fd-39438e807ca5"
      },
      "outputs": [
        {
          "output_type": "stream",
          "name": "stdout",
          "text": [
            "Accuracy:1.0\n"
          ]
        }
      ],
      "source": [
        "# Question 5: Write a Python program that loads a CSV file into a Pandas DataFrame,\n",
        "# splits into train/test sets, trains a Logistic Regression model, and prints its accuracy.\n",
        "# (Use Dataset from sklearn package)\n",
        "import pandas as pd\n",
        "import numpy as np\n",
        "import matplotlib.pyplot as plt\n",
        "from sklearn.model_selection import train_test_split\n",
        "from sklearn.linear_model import LogisticRegression\n",
        "from sklearn.metrics import accuracy_score\n",
        "from sklearn.datasets import load_iris\n",
        "\n",
        "data=load_iris()\n",
        "df=pd.DataFrame(data.data,columns=data.feature_names)\n",
        "df['target']=data.target\n",
        "x=df.drop('target',axis=1)\n",
        "y=df.target\n",
        "x_train,x_test,y_train,y_test=train_test_split(x,y,test_size=0.2,random_state=42)\n",
        "model=LogisticRegression()\n",
        "model.fit(x_train,y_train)\n",
        "y_pred=model.predict(x_test)\n",
        "accuracy=accuracy_score(y_test,y_pred)\n",
        "print(f\"Accuracy:{accuracy}\")"
      ]
    },
    {
      "cell_type": "code",
      "source": [
        "# Write a Python program to train a Logistic Regression model using L2\n",
        "# regularization (Ridge) and print the model coefficients and accuracy.\n",
        "import pandas as pd\n",
        "import numpy as np\n",
        "import matplotlib.pyplot as plt\n",
        "from sklearn.model_selection import train_test_split\n",
        "from sklearn.linear_model import LogisticRegression\n",
        "from sklearn.metrics import accuracy_score\n",
        "from sklearn.datasets import load_iris\n",
        "\n",
        "data=load_iris()\n",
        "df=pd.DataFrame(data.data,columns=data.feature_names)\n",
        "df['target']=data.target\n",
        "x=df.drop('target',axis=1)\n",
        "y=df.target\n",
        "x_train,x_test,y_train,y_test=train_test_split(x,y,test_size=0.2,random_state=42)\n",
        "model=LogisticRegression(penalty='l2',solver=\"lbfgs\")\n",
        "model.fit(x_train,y_train)\n",
        "y_pred=model.predict(x_test)\n",
        "print(\"coefficient\",model.coef_)\n",
        "accuracy=accuracy_score(y_test,y_pred)\n",
        "print(f\"Accuracy:{accuracy}\")"
      ],
      "metadata": {
        "colab": {
          "base_uri": "https://localhost:8080/"
        },
        "id": "X0J-a03J_61i",
        "outputId": "eb54393e-e5ea-4c2e-9c6d-668082321fad"
      },
      "execution_count": 12,
      "outputs": [
        {
          "output_type": "stream",
          "name": "stdout",
          "text": [
            "coefficient [[-0.39345607  0.96251768 -2.37512436 -0.99874594]\n",
            " [ 0.50843279 -0.25482714 -0.21301129 -0.77574766]\n",
            " [-0.11497673 -0.70769055  2.58813565  1.7744936 ]]\n",
            "Accuracy:1.0\n"
          ]
        }
      ]
    },
    {
      "cell_type": "code",
      "source": [
        "# Question 7: Write a Python program to train a Logistic Regression model for multiclass\n",
        "# classification using multi_class='ovr' and print the classification report.\n",
        "\n",
        "import pandas as pd\n",
        "import numpy as np\n",
        "import matplotlib.pyplot as plt\n",
        "from sklearn.model_selection import train_test_split\n",
        "from sklearn.linear_model import LogisticRegression\n",
        "from sklearn.metrics import classification_report\n",
        "from sklearn.datasets import load_iris\n",
        "\n",
        "data=load_iris()\n",
        "df=pd.DataFrame(data.data,columns=data.feature_names)\n",
        "df['target']=data.target\n",
        "x=df.drop('target',axis=1)\n",
        "y=df.target\n",
        "x_train,x_test,y_train,y_test=train_test_split(x,y,test_size=0.2,random_state=42)\n",
        "model=LogisticRegression(multi_class='ovr')\n",
        "model.fit(x_train,y_train)\n",
        "y_pred=model.predict(x_test)\n",
        "classification_report=classification_report(y_test,y_pred)\n",
        "print(classification_report)"
      ],
      "metadata": {
        "colab": {
          "base_uri": "https://localhost:8080/"
        },
        "id": "GlUYPKQ1ClXn",
        "outputId": "29069ca0-f4e2-48dc-9372-86fdd54e81e0"
      },
      "execution_count": 16,
      "outputs": [
        {
          "output_type": "stream",
          "name": "stderr",
          "text": [
            "/usr/local/lib/python3.12/dist-packages/sklearn/linear_model/_logistic.py:1256: FutureWarning: 'multi_class' was deprecated in version 1.5 and will be removed in 1.7. Use OneVsRestClassifier(LogisticRegression(..)) instead. Leave it to its default value to avoid this warning.\n",
            "  warnings.warn(\n"
          ]
        },
        {
          "output_type": "stream",
          "name": "stdout",
          "text": [
            "              precision    recall  f1-score   support\n",
            "\n",
            "           0       1.00      1.00      1.00        10\n",
            "           1       1.00      0.89      0.94         9\n",
            "           2       0.92      1.00      0.96        11\n",
            "\n",
            "    accuracy                           0.97        30\n",
            "   macro avg       0.97      0.96      0.97        30\n",
            "weighted avg       0.97      0.97      0.97        30\n",
            "\n"
          ]
        }
      ]
    },
    {
      "cell_type": "code",
      "source": [
        "# Question 8: Write a Python program to apply GridSearchCV to tune C and penalty\n",
        "# hyperparameters for Logistic Regression and print the best parameters and validation\n",
        "# accuracy.\n",
        "\n",
        "import numpy as np\n",
        "from sklearn.datasets import load_breast_cancer\n",
        "from sklearn.linear_model import LogisticRegression\n",
        "from sklearn.model_selection import GridSearchCV, train_test_split\n",
        "from sklearn.metrics import accuracy_score\n",
        "\n",
        "# Load the breast cancer dataset\n",
        "data = load_breast_cancer()\n",
        "\n",
        "# Load dataset\n",
        "data = load_breast_cancer()\n",
        "X = data.data\n",
        "y = data.target\n",
        "# Train-test split\n",
        "X_train, X_test, y_train, y_test = train_test_split(\n",
        "    X, y, test_size=0.2, random_state=42\n",
        ")\n",
        "# Define Logistic Regression model\n",
        "log_reg = LogisticRegression(max_iter=1000, solver='saga')\n",
        "# 'saga' supports both L1 and L2 penalties\n",
        "\n",
        "# Define parameter grid\n",
        "param_grid = {\n",
        "    'C': [0.01, 0.1, 1, 10, 100],   # Regularization strength (inverse of λ)\n",
        "    'penalty': ['l1', 'l2']         # L1 (Lasso) and L2 (Ridge)\n",
        "}\n",
        "\n",
        "# Apply GridSearchCV\n",
        "grid_search = GridSearchCV(\n",
        "    estimator=log_reg,\n",
        "    param_grid=param_grid,\n",
        "    cv=5,               # 5-fold cross-validation\n",
        "    scoring='accuracy',\n",
        "    n_jobs=-1\n",
        ")\n",
        "# Fit model\n",
        "grid_search.fit(X_train, y_train)\n",
        "\n",
        "# Print best parameters and validation accuracy\n",
        "print(\"Best Parameters:\", grid_search.best_params_)\n",
        "print(\"Best Cross-Validation Accuracy:\", grid_search.best_score_)\n",
        "\n",
        "# Test set accuracy\n",
        "best_model = grid_search.best_estimator_\n",
        "test_accuracy = best_model.score(X_test, y_test)\n",
        "print(\"Test Accuracy:\", test_accuracy)"
      ],
      "metadata": {
        "colab": {
          "base_uri": "https://localhost:8080/"
        },
        "id": "u0B1SZNWDR4n",
        "outputId": "8dd53676-b918-4b92-9b41-b2e0ef644974"
      },
      "execution_count": 25,
      "outputs": [
        {
          "output_type": "stream",
          "name": "stdout",
          "text": [
            "Best Parameters: {'C': 0.01, 'penalty': 'l2'}\n",
            "Best Cross-Validation Accuracy: 0.9164835164835166\n",
            "Test Accuracy: 0.9649122807017544\n"
          ]
        },
        {
          "output_type": "stream",
          "name": "stderr",
          "text": [
            "/usr/local/lib/python3.12/dist-packages/sklearn/linear_model/_sag.py:348: ConvergenceWarning: The max_iter was reached which means the coef_ did not converge\n",
            "  warnings.warn(\n"
          ]
        }
      ]
    },
    {
      "cell_type": "code",
      "source": [],
      "metadata": {
        "id": "8rS1AFGOEclZ"
      },
      "execution_count": 25,
      "outputs": []
    },
    {
      "cell_type": "code",
      "source": [
        "# Question 9: Write a Python program to standardize the features before training Logistic\n",
        "# Regression and compare the model's accuracy with and without scaling.\n",
        "import pandas as pd\n",
        "import numpy as np\n",
        "import matplotlib.pyplot as plt\n",
        "from sklearn.model_selection import train_test_split\n",
        "from sklearn.linear_model import LogisticRegression\n",
        "from sklearn.metrics import classification_report\n",
        "from sklearn.datasets import load_iris\n",
        "\n",
        "data=load_iris()\n",
        "df=pd.DataFrame(data.data,columns=data.feature_names)\n",
        "df['target']=data.target\n",
        "x=df.drop('target',axis=1)\n",
        "y=df.target\n",
        "#without scaling\n",
        "x_train,x_test,y_train,y_test=train_test_split(x,y,test_size=0.2,random_state=42)\n",
        "model=LogisticRegression(penalty='l2')\n",
        "model.fit(x_train,y_train)\n",
        "y_pred=model.predict(x_test)\n",
        "classification_report1=classification_report(y_test,y_pred)\n",
        "print(classification_report1)\n",
        "\n",
        "#with scaling\n",
        "from sklearn.preprocessing import StandardScaler\n",
        "scaler=StandardScaler()\n",
        "x_scaled=scaler.fit_transform(x)\n",
        "x_train,x_test,y_train,y_test=train_test_split(x_scaled,y,test_size=0.2,random_state=42)\n",
        "model=LogisticRegression(penalty='l2')\n",
        "model.fit(x_train,y_train)\n",
        "y_pred=model.predict(x_test)\n",
        "classification_report2=classification_report(y_test,y_pred)\n",
        "print(classification_report2)\n"
      ],
      "metadata": {
        "colab": {
          "base_uri": "https://localhost:8080/"
        },
        "id": "o9lIAKQZEe5a",
        "outputId": "6e32d8f5-8943-4da8-a89f-7bdefb48ef3e"
      },
      "execution_count": 31,
      "outputs": [
        {
          "output_type": "stream",
          "name": "stdout",
          "text": [
            "              precision    recall  f1-score   support\n",
            "\n",
            "           0       1.00      1.00      1.00        10\n",
            "           1       1.00      1.00      1.00         9\n",
            "           2       1.00      1.00      1.00        11\n",
            "\n",
            "    accuracy                           1.00        30\n",
            "   macro avg       1.00      1.00      1.00        30\n",
            "weighted avg       1.00      1.00      1.00        30\n",
            "\n",
            "              precision    recall  f1-score   support\n",
            "\n",
            "           0       1.00      1.00      1.00        10\n",
            "           1       1.00      1.00      1.00         9\n",
            "           2       1.00      1.00      1.00        11\n",
            "\n",
            "    accuracy                           1.00        30\n",
            "   macro avg       1.00      1.00      1.00        30\n",
            "weighted avg       1.00      1.00      1.00        30\n",
            "\n"
          ]
        }
      ]
    },
    {
      "cell_type": "code",
      "source": [
        "# Question 10: Imagine you are working at an e-commerce company that wants to\n",
        "# predict which customers will respond to a marketing campaign. Given an imbalanced\n",
        "# dataset (only 5% of customers respond), describe the approach you’d take to build a\n",
        "# Logistic Regression model — including data handling, feature scaling, balancing\n",
        "# classes, hyperparameter tuning, and evaluating the model for this real-world business\n",
        "# use case.\n",
        "\n",
        "\n",
        "# Import libraries\n",
        "import numpy as np\n",
        "from sklearn.datasets import make_classification\n",
        "from sklearn.model_selection import train_test_split, GridSearchCV\n",
        "from sklearn.preprocessing import StandardScaler\n",
        "from sklearn.linear_model import LogisticRegression\n",
        "from sklearn.pipeline import Pipeline\n",
        "from sklearn.metrics import classification_report, confusion_matrix, roc_auc_score, precision_recall_curve, auc\n",
        "\n",
        "# 1. Create an imbalanced dataset (5% positive class)\n",
        "X, y = make_classification(n_samples=5000, n_features=20, n_informative=10,\n",
        "                           n_redundant=5, n_classes=2, weights=[0.95, 0.05],\n",
        "                           random_state=42)\n",
        "\n",
        "# 2. Train-test split\n",
        "X_train, X_test, y_train, y_test = train_test_split(\n",
        "    X, y, test_size=0.2, stratify=y, random_state=42\n",
        ")\n",
        "\n",
        "# 3. Build pipeline (scaling + logistic regression)\n",
        "pipeline = Pipeline([\n",
        "    ('scaler', StandardScaler()),\n",
        "    ('log_reg', LogisticRegression(solver='saga', max_iter=1000))\n",
        "])\n",
        "\n",
        "# 4. Define hyperparameter grid\n",
        "param_grid = {\n",
        "    'log_reg__C': [0.01, 0.1, 1, 10],\n",
        "    'log_reg__penalty': ['l1', 'l2'],\n",
        "    'log_reg__class_weight': [None, 'balanced']\n",
        "}\n",
        "\n",
        "# 5. GridSearchCV for tuning\n",
        "grid_search = GridSearchCV(\n",
        "    estimator=pipeline,\n",
        "    param_grid=param_grid,\n",
        "    scoring='f1',   # better for imbalanced data\n",
        "    cv=5,\n",
        "    n_jobs=-1\n",
        ")\n",
        "\n",
        "grid_search.fit(X_train, y_train)\n",
        "\n",
        "# 6. Best model\n",
        "best_model = grid_search.best_estimator_\n",
        "print(\"Best Parameters:\", grid_search.best_params_)\n",
        "\n",
        "# 7. Predictions\n",
        "y_pred = best_model.predict(X_test)\n",
        "y_prob = best_model.predict_proba(X_test)[:, 1]\n",
        "\n",
        "# 8. Evaluation\n",
        "print(\"\\nClassification Report:\")\n",
        "print(classification_report(y_test, y_pred, digits=4))\n",
        "\n",
        "print(\"Confusion Matrix:\\n\", confusion_matrix(y_test, y_pred))\n",
        "print(\"ROC-AUC Score:\", roc_auc_score(y_test, y_prob))\n",
        "\n",
        "# Precision-Recall AUC\n",
        "precision, recall, _ = precision_recall_curve(y_test, y_prob)\n",
        "pr_auc = auc(recall, precision)\n",
        "print(\"Precision-Recall AUC:\", pr_auc)\n"
      ],
      "metadata": {
        "id": "0xDJPxobF3BB"
      },
      "execution_count": null,
      "outputs": []
    }
  ]
}