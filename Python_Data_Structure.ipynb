{
  "nbformat": 4,
  "nbformat_minor": 0,
  "metadata": {
    "colab": {
      "provenance": []
    },
    "kernelspec": {
      "name": "python3",
      "display_name": "Python 3"
    },
    "language_info": {
      "name": "python"
    }
  },
  "cells": [
    {
      "cell_type": "markdown",
      "source": [
        "#Theory Questions\n",
        "\n"
      ],
      "metadata": {
        "id": "NaPU3S-iLIeq"
      }
    },
    {
      "cell_type": "markdown",
      "source": [
        "**ques1.What are data structures, and why are they important?**\n",
        "\n",
        "Data structures are ways to organize and store data so we can use it efficiently. They're important because they help us manage data better — like finding stuff quickly, sorting it, or updating it easily."
      ],
      "metadata": {
        "id": "UmVoBRGaLN39"
      }
    },
    {
      "cell_type": "markdown",
      "source": [
        "**Ques2.Explain the difference between mutable and immutable data types with examples.**\n",
        "\n",
        "Mutable means you can change the data after creating it (like lists). Immutable means once it's made, you can't change it (like strings or tuples).\n",
        "Example:\n",
        "\n",
        "a = [1, 2, 3]  # list - mutable  \n",
        "a[0] = 10      # works\n",
        "\n",
        "b = (1, 2, 3)  # tuple - immutable  \n",
        "b[0] = 10      # gives error\n"
      ],
      "metadata": {
        "id": "Iv70hFz6LNzW"
      }
    },
    {
      "cell_type": "markdown",
      "source": [
        "**Ques3.What are the main differences between lists and tuples in Python?**\n",
        "\n",
        "Lists can be changed (mutable), tuples can't (immutable).\n",
        "\n",
        "Tuples are faster and use less memory.\n",
        "\n",
        "Lists have more features and are used when the data might change."
      ],
      "metadata": {
        "id": "qdNFteT9LNwc"
      }
    },
    {
      "cell_type": "markdown",
      "source": [
        "**Ques4.Describe how dictionaries store data.**\n",
        "\n",
        "Dictionaries store data using key-value pairs. Think of it like a real dictionary: you look up a word (key) and get its meaning (value)."
      ],
      "metadata": {
        "id": "kxB9AqCbLNtk"
      }
    },
    {
      "cell_type": "markdown",
      "source": [
        "**Ques5 Why might you use a set instead of a list in Python?**\n",
        "**bold text**\n",
        "Use a set when you only want unique values. Sets automatically remove duplicates and are faster when checking if something exists."
      ],
      "metadata": {
        "id": "wIBANUo4LNrH"
      }
    },
    {
      "cell_type": "markdown",
      "source": [
        "**Ques6 What is a string in Python, and how is it different from a list?**\n",
        "\n",
        "A string is just text (like \"hello\"). It’s made of characters and can’t be changed. A list can hold anything — numbers, text, even other lists — and you can change it.\n",
        "\n"
      ],
      "metadata": {
        "id": "T4q72n44LNok"
      }
    },
    {
      "cell_type": "markdown",
      "source": [
        "**Ques7 How do tuples ensure data integrity in Python?**\n",
        "Since tuples can't be changed, the data stays safe and unmodified. That’s helpful when you want to make sure no one accidentally edits the data."
      ],
      "metadata": {
        "id": "EpJ5uiFdLNmL"
      }
    },
    {
      "cell_type": "markdown",
      "source": [
        "**Ques8 What is a hash table, and how does it relate to dictionaries in Python?**\n",
        "\n",
        "A hash table is a behind-the-scenes system that quickly finds values using keys. Python dictionaries use hash tables to work fast when you search by key."
      ],
      "metadata": {
        "id": "STkmYkRHLNjw"
      }
    },
    {
      "cell_type": "markdown",
      "source": [
        "**Ques9 Can lists contain different data types in Python?**\n",
        "Yes, lists can hold different kinds of data like numbers, strings, and even other lists all in one."
      ],
      "metadata": {
        "id": "xVJDd54oLNhN"
      }
    },
    {
      "cell_type": "markdown",
      "source": [
        "**Ques10 Explain why strings are immutable in Python.**\n",
        "Strings are immutable because they can't be changed after creation. This helps avoid bugs and makes them safer to use in your code."
      ],
      "metadata": {
        "id": "oIZGILQgLNej"
      }
    },
    {
      "cell_type": "markdown",
      "source": [
        "**Ques11 What advantages do dictionaries offer over lists for certain tasks?**\n",
        "Dictionaries are great when you need to label your data and find things quickly using a name instead of a position — like finding someone's phone number by their name."
      ],
      "metadata": {
        "id": "7-1pMykeLNcQ"
      }
    },
    {
      "cell_type": "markdown",
      "source": [
        "**Ques12 Describe a scenario where using a tuple would be preferable over a list.**\n",
        "\n",
        "Use a tuple when your data should not change. For example, storing a person's birthdate or (x, y) coordinates that stay the same."
      ],
      "metadata": {
        "id": "h-gCWZ5pLNZx"
      }
    },
    {
      "cell_type": "markdown",
      "source": [
        "**Ques13 How do sets handle duplicate values in Python?**\n",
        "Sets don’t allow duplicates. If you try to add the same value again, it just won’t include it."
      ],
      "metadata": {
        "id": "wMf2NMacLNXd"
      }
    },
    {
      "cell_type": "markdown",
      "source": [
        "**Ques14 How does the “in” keyword work differently for lists and dictionaries?**\n",
        "\n",
        "In a list, in checks if a value is there.\n",
        "In a dictionary, in checks if a key is there (not the value)."
      ],
      "metadata": {
        "id": "tTG6un45LNVT"
      }
    },
    {
      "cell_type": "markdown",
      "source": [
        "**Ques15 Can you modify the elements of a tuple? Explain why or why not.**\n",
        "\n",
        "Nope! Tuples are like sealed boxes. Once you put stuff in, you can't take it out or change it. That's what makes them immutable.\n",
        "\n"
      ],
      "metadata": {
        "id": "lGq87NV5LNSt"
      }
    },
    {
      "cell_type": "markdown",
      "source": [
        "**Ques16 What is a nested dictionary, and give an example of its use case.**\n",
        "A nested dictionary is a dictionary inside another dictionary.\n",
        "\n",
        "student = {\n",
        "  \"name\": \"Alex\",\n",
        "  \"marks\": {\"math\": 95, \"science\": 88}\n",
        "}\n"
      ],
      "metadata": {
        "id": "LNYGHMPZLNQc"
      }
    },
    {
      "cell_type": "markdown",
      "source": [
        "**Ques17 Describe the time complexity of accessing elements in a dictionary.**\n",
        "\n",
        "It’s super fast — usually takes constant time, which means it doesn’t slow down even if the dictionary gets bigger (average time: O(1))."
      ],
      "metadata": {
        "id": "MvffxLElLNOI"
      }
    },
    {
      "cell_type": "markdown",
      "source": [
        "**Ques18 In what situations are lists preferred over dictionaries?**\n",
        "\n",
        "When you just need to keep data in order and don’t need labels. For example, keeping a list of names to print out in order."
      ],
      "metadata": {
        "id": "elcIJRK7LNLj"
      }
    },
    {
      "cell_type": "markdown",
      "source": [
        "**Ques19**\n",
        "**Why are dictionaries considered unordered, and how does that affect data retrieval?**\n",
        "Earlier, dictionaries didn’t keep things in the order you added them. Since Python 3.7, they do — but you still get data by key, not by position."
      ],
      "metadata": {
        "id": "eHxCxCPgLNA1"
      }
    },
    {
      "cell_type": "markdown",
      "source": [
        "**Ques20 Explain the difference between a list and a dictionary in terms of data retrieval. **\n",
        "\n",
        "With a list, you get data using numbers (indexes), like my_list[0].\n",
        "With a dictionary, you get data using names (keys), like my_dict[\"name\"]."
      ],
      "metadata": {
        "id": "VM7DXHbHLM9j"
      }
    },
    {
      "cell_type": "markdown",
      "source": [
        "#Practical Questions\n"
      ],
      "metadata": {
        "id": "-TqvSoMLJgAC"
      }
    },
    {
      "cell_type": "code",
      "execution_count": 4,
      "metadata": {
        "colab": {
          "base_uri": "https://localhost:8080/"
        },
        "id": "vxBgf0lUr8sS",
        "outputId": "3270c169-9390-4a08-ffbd-d9cdbdb6c944"
      },
      "outputs": [
        {
          "output_type": "stream",
          "name": "stdout",
          "text": [
            "ashish Soni\n"
          ]
        }
      ],
      "source": [
        "#1.Write a code to create a string with your name and print it\n",
        "print(\"ashish Soni\")"
      ]
    },
    {
      "cell_type": "code",
      "source": [
        "#2.Write a code to find the length of the string \"Hello World\"\n",
        "print(len(\"Hello World\"))\n"
      ],
      "metadata": {
        "colab": {
          "base_uri": "https://localhost:8080/"
        },
        "id": "8GdGcDaosSfR",
        "outputId": "48772445-45cc-4e79-ed64-b0907e56aac5"
      },
      "execution_count": 5,
      "outputs": [
        {
          "output_type": "stream",
          "name": "stdout",
          "text": [
            "11\n"
          ]
        }
      ]
    },
    {
      "cell_type": "code",
      "source": [
        "#3.Write a code to slice the first 3 characters from the string \"Python Programming\"\n",
        "x=\"Python Programming\"\n",
        "print(x[:3])\n"
      ],
      "metadata": {
        "colab": {
          "base_uri": "https://localhost:8080/"
        },
        "id": "s12-AoRysSb1",
        "outputId": "d1e85e97-455a-478c-b3f4-167e34026978"
      },
      "execution_count": 7,
      "outputs": [
        {
          "output_type": "stream",
          "name": "stdout",
          "text": [
            "Pyt\n"
          ]
        }
      ]
    },
    {
      "cell_type": "code",
      "source": [
        "#4.Write a code to convert the string \"hello\" to uppercase\n",
        "x=\"hello\"\n",
        "print(x.upper())"
      ],
      "metadata": {
        "colab": {
          "base_uri": "https://localhost:8080/"
        },
        "id": "DVUKwJWPsSZC",
        "outputId": "47f87197-229f-43f4-fc1d-46c8af234013"
      },
      "execution_count": 9,
      "outputs": [
        {
          "output_type": "stream",
          "name": "stdout",
          "text": [
            "HELLO\n"
          ]
        }
      ]
    },
    {
      "cell_type": "code",
      "source": [
        "#5.Write a code to replace the word \"apple\" with \"orange\" in the string \"I like apple\"\n",
        "x=\"I like apple\"\n",
        "x.replace(\"apple\",\"orange\")"
      ],
      "metadata": {
        "colab": {
          "base_uri": "https://localhost:8080/",
          "height": 35
        },
        "id": "Xfr6geQ2sSWe",
        "outputId": "709228d8-3458-4875-d18d-060fb0de5c0a"
      },
      "execution_count": 10,
      "outputs": [
        {
          "output_type": "execute_result",
          "data": {
            "text/plain": [
              "'I like orange'"
            ],
            "application/vnd.google.colaboratory.intrinsic+json": {
              "type": "string"
            }
          },
          "metadata": {},
          "execution_count": 10
        }
      ]
    },
    {
      "cell_type": "code",
      "source": [
        "#6.Write a code to create a list with numbers 1 to 5 and print it\n",
        "x=[1,2,3,4,5]\n",
        "print(x)"
      ],
      "metadata": {
        "colab": {
          "base_uri": "https://localhost:8080/"
        },
        "id": "3cZherkksSUJ",
        "outputId": "1c33f63a-95e0-4787-fd7f-c175e28eab0c"
      },
      "execution_count": 11,
      "outputs": [
        {
          "output_type": "stream",
          "name": "stdout",
          "text": [
            "[1, 2, 3, 4, 5]\n"
          ]
        }
      ]
    },
    {
      "cell_type": "code",
      "source": [
        "#7.Write a code to append the number 10 to the list [1, 2, 3, 4]\n",
        "x=[1, 2, 3, 4]\n",
        "x.append(10)\n",
        "print(x)"
      ],
      "metadata": {
        "colab": {
          "base_uri": "https://localhost:8080/"
        },
        "id": "F7FQP_mRsSRx",
        "outputId": "5291fc21-280b-4d03-ccea-37bf97a4f9cc"
      },
      "execution_count": 12,
      "outputs": [
        {
          "output_type": "stream",
          "name": "stdout",
          "text": [
            "[1, 2, 3, 4, 10]\n"
          ]
        }
      ]
    },
    {
      "cell_type": "code",
      "source": [
        "#8.Write a code to remove the number 3 from the list [1, 2, 3, 4, 5]\n",
        "ls=[1, 2, 3, 4, 5]\n",
        "ls.remove(3)\n",
        "print(ls)"
      ],
      "metadata": {
        "colab": {
          "base_uri": "https://localhost:8080/"
        },
        "id": "DpLmbCpesSPV",
        "outputId": "ea04123b-79ae-4da0-b4e0-83cfafc60cba"
      },
      "execution_count": 14,
      "outputs": [
        {
          "output_type": "stream",
          "name": "stdout",
          "text": [
            "[1, 2, 4, 5]\n"
          ]
        }
      ]
    },
    {
      "cell_type": "code",
      "source": [
        "#9.Write a code to access the second element in the list ['a', 'b', 'c', 'd']\n",
        "ls=['a', 'b', 'c', 'd']\n",
        "print(ls[1])"
      ],
      "metadata": {
        "colab": {
          "base_uri": "https://localhost:8080/"
        },
        "id": "PlJToTDNsSNG",
        "outputId": "ca781af4-e11e-45e5-aedc-b26c69e6efa0"
      },
      "execution_count": 15,
      "outputs": [
        {
          "output_type": "stream",
          "name": "stdout",
          "text": [
            "b\n"
          ]
        }
      ]
    },
    {
      "cell_type": "code",
      "source": [
        "#10.Write a code to reverse the list [10, 20, 30, 40, 50].\n",
        "ls=[10, 20, 30, 40, 50]\n",
        "print(ls[::-1])"
      ],
      "metadata": {
        "colab": {
          "base_uri": "https://localhost:8080/"
        },
        "id": "HLcJLnTYsSKj",
        "outputId": "62d76f8d-b821-4666-9cbb-ad045457149b"
      },
      "execution_count": 19,
      "outputs": [
        {
          "output_type": "stream",
          "name": "stdout",
          "text": [
            "[50, 40, 30, 20, 10]\n"
          ]
        }
      ]
    },
    {
      "cell_type": "code",
      "source": [
        "#11.Write a code to create a tuple with the elements 100, 200, 300 and print it.\n",
        "x=(100, 200, 300)\n",
        "print(x)\n",
        "print(type(x))"
      ],
      "metadata": {
        "colab": {
          "base_uri": "https://localhost:8080/"
        },
        "id": "LjOhCzfPsSIP",
        "outputId": "5f730ce9-a7f6-43d5-ea29-140d40c6e4ba"
      },
      "execution_count": 20,
      "outputs": [
        {
          "output_type": "stream",
          "name": "stdout",
          "text": [
            "(100, 200, 300)\n",
            "<class 'tuple'>\n"
          ]
        }
      ]
    },
    {
      "cell_type": "code",
      "source": [
        "#12.Write a code to access the second-to-last element of the tuple ('red', 'green', 'blue', 'yellow').\n",
        "x=('red', 'green', 'blue', 'yellow')\n",
        "print(x[1:])"
      ],
      "metadata": {
        "colab": {
          "base_uri": "https://localhost:8080/"
        },
        "id": "TlRl1SmksSGS",
        "outputId": "9b8a343a-03ac-4d4d-d59b-00603501b13e"
      },
      "execution_count": 21,
      "outputs": [
        {
          "output_type": "stream",
          "name": "stdout",
          "text": [
            "('green', 'blue', 'yellow')\n"
          ]
        }
      ]
    },
    {
      "cell_type": "code",
      "source": [
        "#13.Write a code to find the minimum number in the tuple (10, 20, 5, 15)\n",
        "x=(10, 20, 5, 15)\n",
        "print(min(x))"
      ],
      "metadata": {
        "colab": {
          "base_uri": "https://localhost:8080/"
        },
        "id": "1ymV-NL9sSDi",
        "outputId": "89890d10-0836-473d-a5b9-ea0dc3bc0cc6"
      },
      "execution_count": 22,
      "outputs": [
        {
          "output_type": "stream",
          "name": "stdout",
          "text": [
            "5\n"
          ]
        }
      ]
    },
    {
      "cell_type": "code",
      "source": [
        "#14.Write a code to find the index of the element \"cat\" in the tuple ('dog', 'cat', 'rabbit').\n",
        "x=('dog', 'cat', 'rabbit')\n",
        "print(x.index(\"cat\"))"
      ],
      "metadata": {
        "colab": {
          "base_uri": "https://localhost:8080/"
        },
        "id": "-poScVaJsSBN",
        "outputId": "511109dd-222c-470f-94ea-806e9828783d"
      },
      "execution_count": 23,
      "outputs": [
        {
          "output_type": "stream",
          "name": "stdout",
          "text": [
            "1\n"
          ]
        }
      ]
    },
    {
      "cell_type": "code",
      "source": [
        "#15.Write a code to create a tuple containing three different fruits and check if \"kiwi\" is in tuple\n",
        "x=(\"apple\",\"fruits\",\"kiwi\")\n",
        "print(\"kiwi\" in x)"
      ],
      "metadata": {
        "colab": {
          "base_uri": "https://localhost:8080/"
        },
        "id": "ri4nhvPwsR-t",
        "outputId": "5aca2bd6-0de1-4209-9ec0-39081fdd4de9"
      },
      "execution_count": 25,
      "outputs": [
        {
          "output_type": "stream",
          "name": "stdout",
          "text": [
            "True\n"
          ]
        }
      ]
    },
    {
      "cell_type": "code",
      "source": [
        "#16.Write a code to create a set with the elements 'a', 'b', 'c' and print it.\n",
        "x={\"a\",\"b\",\"c\"}\n",
        "print(x)"
      ],
      "metadata": {
        "colab": {
          "base_uri": "https://localhost:8080/"
        },
        "id": "H0lMlHahsR8T",
        "outputId": "ad6a36db-605d-4ad2-a196-ccf79f4323cb"
      },
      "execution_count": 27,
      "outputs": [
        {
          "output_type": "stream",
          "name": "stdout",
          "text": [
            "{'b', 'c', 'a'}\n"
          ]
        }
      ]
    },
    {
      "cell_type": "code",
      "source": [
        "#17.Write a code to clear all elements from the set {1, 2, 3, 4, 5}\n",
        "x={1, 2, 3, 4, 5}\n",
        "x.clear()\n",
        "print(x)"
      ],
      "metadata": {
        "colab": {
          "base_uri": "https://localhost:8080/"
        },
        "id": "S7fzDE6TsR57",
        "outputId": "e15b00ee-b90e-421b-bb2a-244c6e6a291e"
      },
      "execution_count": 28,
      "outputs": [
        {
          "output_type": "stream",
          "name": "stdout",
          "text": [
            "set()\n"
          ]
        }
      ]
    },
    {
      "cell_type": "code",
      "source": [
        "#18.Write a code to remove the element 4 from the set {1, 2, 3, 4}\n",
        "x={1, 2, 3, 4}\n",
        "x.remove(4)\n",
        "print(x)"
      ],
      "metadata": {
        "colab": {
          "base_uri": "https://localhost:8080/"
        },
        "id": "_hslEw32sR3l",
        "outputId": "f69357cc-370f-41bc-fe6d-9860d19d21d4"
      },
      "execution_count": 29,
      "outputs": [
        {
          "output_type": "stream",
          "name": "stdout",
          "text": [
            "{1, 2, 3}\n"
          ]
        }
      ]
    },
    {
      "cell_type": "code",
      "source": [
        "#19.Write a code to find the union of two sets {1, 2, 3} and {3, 4, 5}.\n",
        "x={1, 2, 3}\n",
        "y={3, 4, 5}\n",
        "print(x|y)"
      ],
      "metadata": {
        "colab": {
          "base_uri": "https://localhost:8080/"
        },
        "id": "x1oZe62TsR1k",
        "outputId": "2362aeda-c6bf-4272-a6dc-9a2f40f6fa1f"
      },
      "execution_count": 30,
      "outputs": [
        {
          "output_type": "stream",
          "name": "stdout",
          "text": [
            "{1, 2, 3, 4, 5}\n"
          ]
        }
      ]
    },
    {
      "cell_type": "code",
      "source": [
        "#20.Write a code to find the intersection of two sets {1, 2, 3} and {2, 3, 4}.\n",
        "x={1, 2, 3}\n",
        "y={2, 3, 4}\n",
        "print(x&y)"
      ],
      "metadata": {
        "colab": {
          "base_uri": "https://localhost:8080/"
        },
        "id": "fmWULFaQsRyq",
        "outputId": "b72a5595-f502-4084-e41d-4705439e1cf2"
      },
      "execution_count": 31,
      "outputs": [
        {
          "output_type": "stream",
          "name": "stdout",
          "text": [
            "{2, 3}\n"
          ]
        }
      ]
    },
    {
      "cell_type": "code",
      "source": [
        "#21.Write a code to create a dictionary with the keys \"name\", \"age\", and \"city\", and print it\n",
        "x={\"name\":\"ashish\",\"age\":35,\"city\":\"aligarh\"}\n",
        "print(x)"
      ],
      "metadata": {
        "colab": {
          "base_uri": "https://localhost:8080/"
        },
        "id": "CL1G0vJIsRwH",
        "outputId": "dfb0dcee-a9ca-4d83-bb69-0c2f0e6f4260"
      },
      "execution_count": 32,
      "outputs": [
        {
          "output_type": "stream",
          "name": "stdout",
          "text": [
            "{'name': 'ashish', 'age': 35, 'city': 'aligarh'}\n"
          ]
        }
      ]
    },
    {
      "cell_type": "code",
      "source": [
        "#22. Write a code to add a new key-value pair \"country\": \"USA\" to the dictionary {'name': 'John', 'age': 25}.\n",
        "x ={'name': 'John', 'age': 25}\n",
        "x[\"country\"] = \"USA\"\n",
        "print(x)"
      ],
      "metadata": {
        "colab": {
          "base_uri": "https://localhost:8080/"
        },
        "id": "BVY0uxaFs7AW",
        "outputId": "f9da0a66-f7b8-4ee8-d49b-d7c791a2ebba"
      },
      "execution_count": 34,
      "outputs": [
        {
          "output_type": "stream",
          "name": "stdout",
          "text": [
            "{'name': 'John', 'age': 25, 'country': 'USA'}\n"
          ]
        }
      ]
    },
    {
      "cell_type": "code",
      "source": [
        "#23.Write a code to access the value associated with the key \"name\" in the dictionary {'name': 'Alice', 'age': 30}.\n",
        "y={'name': 'Alice', 'age': 30}\n",
        "print(y[\"name\"])"
      ],
      "metadata": {
        "colab": {
          "base_uri": "https://localhost:8080/"
        },
        "id": "3xKLrY8xs69H",
        "outputId": "82de230d-3af1-49c6-aac0-981c66bb2314"
      },
      "execution_count": 36,
      "outputs": [
        {
          "output_type": "stream",
          "name": "stdout",
          "text": [
            "Alice\n"
          ]
        }
      ]
    },
    {
      "cell_type": "code",
      "source": [
        "#24.Write a code to remove the key \"age\" from the dictionary {'name': 'Bob', 'age': 22, 'city': 'New York'}\n",
        "y={'name': 'Bob', 'age': 22, 'city': 'New York'}\n",
        "del y[\"name\"]\n",
        "print(y)"
      ],
      "metadata": {
        "colab": {
          "base_uri": "https://localhost:8080/"
        },
        "id": "zefMM5NMs65q",
        "outputId": "f4c75990-b7ca-45ff-9622-0d3ba0add81c"
      },
      "execution_count": 39,
      "outputs": [
        {
          "output_type": "stream",
          "name": "stdout",
          "text": [
            "{'age': 22, 'city': 'New York'}\n"
          ]
        }
      ]
    },
    {
      "cell_type": "code",
      "source": [
        "#25.Write a code to check if the key \"city\" exists in the dictionary {'name': 'Alice', 'city': 'Paris'}.\n",
        "z={'name': 'Alice', 'city': 'Paris'}\n",
        "print(\"city\" in z)"
      ],
      "metadata": {
        "colab": {
          "base_uri": "https://localhost:8080/"
        },
        "id": "0Rt0U9wZs62T",
        "outputId": "bdd873c2-6e3c-45b9-97ab-f33f4bb1546e"
      },
      "execution_count": 42,
      "outputs": [
        {
          "output_type": "stream",
          "name": "stdout",
          "text": [
            "True\n"
          ]
        }
      ]
    },
    {
      "cell_type": "code",
      "source": [
        "#26.Write a code to create a list, a tuple, and a dictionary, and print them all.\n",
        "ls=[1,2,\"ashish\",\"3+5j\"]\n",
        "tp=(1,2,\"rohan\",\"3+7j\")\n",
        "dic={\"name\":\"ashish\",\"age\":24}\n",
        "print(f\"list is {ls}, tuple is {tp},dictionary is{dic} \")"
      ],
      "metadata": {
        "colab": {
          "base_uri": "https://localhost:8080/"
        },
        "id": "4ghYwnJMs6yi",
        "outputId": "9766c15d-8fc3-42ad-8f89-b83997cc2d82"
      },
      "execution_count": 1,
      "outputs": [
        {
          "output_type": "stream",
          "name": "stdout",
          "text": [
            "list is [1, 2, 'ashish', '3+5j'], tuple is (1, 2, 'rohan', '3+7j'),dictionary is{'name': 'ashish', 'age': 24} \n"
          ]
        }
      ]
    },
    {
      "cell_type": "code",
      "source": [
        "#27.Write a code to create a list of 5 random numbers between 1 and 100, sort it in ascending order, and print the result(replaced).\n",
        "\n",
        "import random\n",
        "\n",
        "random_numbers = [random.randint(1, 100) for _ in range(5)]\n",
        "print(random_numbers)\n",
        "print(sorted(random_numbers))"
      ],
      "metadata": {
        "colab": {
          "base_uri": "https://localhost:8080/"
        },
        "id": "vICgfuAHs6uO",
        "outputId": "e04e4614-df85-45ab-8b1d-c2de659c53de"
      },
      "execution_count": 45,
      "outputs": [
        {
          "output_type": "stream",
          "name": "stdout",
          "text": [
            "[46, 68, 39, 89, 3]\n",
            "[3, 39, 46, 68, 89]\n"
          ]
        }
      ]
    },
    {
      "cell_type": "code",
      "source": [
        "#28.Write a code to create a list with strings and print the element at the third index.\n",
        "x=[\"ashish\",\"rohit\",\"tanishi\",\"rohan\"]\n",
        "print(x[3])"
      ],
      "metadata": {
        "colab": {
          "base_uri": "https://localhost:8080/"
        },
        "id": "6nOn4zfhs6qr",
        "outputId": "fa3aeb63-a79c-45e1-ad52-dbf9943f7f48"
      },
      "execution_count": 46,
      "outputs": [
        {
          "output_type": "stream",
          "name": "stdout",
          "text": [
            "rohan\n"
          ]
        }
      ]
    },
    {
      "cell_type": "code",
      "source": [
        "#29.Write a code to combine two dictionaries into one and print the result.\n",
        "x={\"name\":\"ashish\",\"age\":14}\n",
        "y={\"class\":\"10\",\"gen\":\"male\"}\n",
        "x.update(y)\n",
        "print(x)\n",
        "\n",
        "x={\"name\":\"ashish\",\"age\":14}\n",
        "y={\"class\":\"10\",\"gen\":\"male\"}\n",
        "z={**x,**y}\n",
        "print(z)"
      ],
      "metadata": {
        "colab": {
          "base_uri": "https://localhost:8080/"
        },
        "id": "LIUL8KIzs6mz",
        "outputId": "319f5a61-8c1c-4755-83e5-e95cd7f2233c"
      },
      "execution_count": 53,
      "outputs": [
        {
          "output_type": "stream",
          "name": "stdout",
          "text": [
            "{'name': 'ashish', 'age': 14, 'class': '10', 'gen': 'male'}\n",
            "{'name': 'ashish', 'age': 14, 'class': '10', 'gen': 'male'}\n"
          ]
        }
      ]
    },
    {
      "cell_type": "code",
      "source": [
        "#30.Write a code to convert a list of strings into a set.\n",
        "\n",
        "x=[\"ashiish\",\"rohit\",\"sonam\",\"mona\"]\n",
        "z=set(x)\n",
        "print(z)\n",
        "print(type(z))"
      ],
      "metadata": {
        "colab": {
          "base_uri": "https://localhost:8080/"
        },
        "id": "falJW4Qts6hd",
        "outputId": "9226fc10-148e-486e-c1a7-d4081f6667ba"
      },
      "execution_count": 54,
      "outputs": [
        {
          "output_type": "stream",
          "name": "stdout",
          "text": [
            "{'sonam', 'mona', 'ashiish', 'rohit'}\n",
            "<class 'set'>\n"
          ]
        }
      ]
    },
    {
      "cell_type": "markdown",
      "source": [],
      "metadata": {
        "id": "YS1g_BmysIAv"
      }
    }
  ]
}