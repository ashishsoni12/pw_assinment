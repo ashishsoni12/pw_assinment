{
  "nbformat": 4,
  "nbformat_minor": 0,
  "metadata": {
    "colab": {
      "provenance": []
    },
    "kernelspec": {
      "name": "python3",
      "display_name": "Python 3"
    },
    "language_info": {
      "name": "python"
    }
  },
  "cells": [
    {
      "cell_type": "markdown",
      "source": [
        "#Python Basics Questions\n",
        "\n"
      ],
      "metadata": {
        "id": "ZHK2j3t1F3jG"
      }
    },
    {
      "cell_type": "markdown",
      "source": [
        "**Que1. What is Python, and why is it popular**\n",
        "\n",
        "Ans. Python is a programming language. It is popular because it's easy to read, learn, and use. It works on many platforms and is used in web development, data science, AI, and more.\n"
      ],
      "metadata": {
        "id": "4UXHDO9GGJXd"
      }
    },
    {
      "cell_type": "markdown",
      "source": [
        "**Que2. What is an interpreter in Python**\n",
        "\n",
        "Ans. An interpreter in Python reads and runs the code line by line. It helps in finding errors quickly and running the program step by step."
      ],
      "metadata": {
        "id": "l4WVUOImGtP8"
      }
    },
    {
      "cell_type": "markdown",
      "source": [
        "**Que3. What are pre-defined keywords in Python**\n",
        "\n",
        "Ans. Pre-defined keywords are special words in Python that have a fixed meaning, like if, else, for, while, True, etc. We can’t use them as variable names.\n",
        "\n"
      ],
      "metadata": {
        "id": "khWdBLOKG-pT"
      }
    },
    {
      "cell_type": "markdown",
      "source": [
        "**Que4. Can keywords be used as variable names**\n",
        "\n",
        "Ans. No, keywords cannot be used as variable names because they are reserved for specific functions in Python."
      ],
      "metadata": {
        "id": "Wg5Rl87oG-lO"
      }
    },
    {
      "cell_type": "markdown",
      "source": [
        "**Que5. What is mutability in Python**\n",
        "\n",
        "Ans. Mutability means whether a value can be changed after it is created. If it can be changed, it is mutable; if not, it's immutable."
      ],
      "metadata": {
        "id": "tGHA3fQGG-hd"
      }
    },
    {
      "cell_type": "markdown",
      "source": [
        "**Que6. Why are lists mutable, but tuples are immutable**\n",
        "\n",
        "Ans. Lists are mutable because we can change, add, or remove items in them. Tuples are immutable because we cannot change their values once they are created."
      ],
      "metadata": {
        "id": "dVrKQ0zzG-d4"
      }
    },
    {
      "cell_type": "markdown",
      "source": [
        "**Que7. What is the difference between “==” and “is” operators in Python**\n",
        "\n",
        "Ans. == checks if two values are the same. is checks if two variables point to the same object in memory."
      ],
      "metadata": {
        "id": "9VvTkDzdG-aM"
      }
    },
    {
      "cell_type": "markdown",
      "source": [
        "**Que8. What are logical operators in Python**\n",
        "\n",
        "Ans. Logical operators are used to combine conditions. They are:\n",
        "\n",
        "and: True if both are true\n",
        "\n",
        "or: True if one is true\n",
        "\n",
        "not: Reverses the result\n"
      ],
      "metadata": {
        "id": "-zyLoxzfG-Wp"
      }
    },
    {
      "cell_type": "markdown",
      "source": [
        "**Que9. What is type casting in Python**\n",
        "\n",
        "Ans. Type casting means changing one data type to another, like changing a string to an integer or float."
      ],
      "metadata": {
        "id": "6juid6cKG-S-"
      }
    },
    {
      "cell_type": "markdown",
      "source": [
        "**Que10. What is the difference between implicit and explicit type casting**\n",
        "\n",
        "Ans.Implicit type casting is done automatically by Python.\n",
        "\n",
        "Explicit type casting is done by the programmer using functions like int(), float(), etc."
      ],
      "metadata": {
        "id": "crfw0VyFG-PF"
      }
    },
    {
      "cell_type": "markdown",
      "source": [
        "**Que11. What is the purpose of conditional statements in Python**\n",
        "\n",
        "Ans. Conditional statements are used to perform different actions based on different conditions in a program."
      ],
      "metadata": {
        "id": "l7gGj3ZlG-K9"
      }
    },
    {
      "cell_type": "markdown",
      "source": [
        "**Que12. How does the elif statement work**\n",
        "\n",
        "Ans. The elif statement checks another condition if the previous if condition is false. It helps to check multiple conditions one by one."
      ],
      "metadata": {
        "id": "PkbhYNIhG-GK"
      }
    },
    {
      "cell_type": "markdown",
      "source": [
        "**Que13. What is the difference between for and while loops**\n",
        "\n",
        "Ans.\n",
        "\n",
        "for loop is used when we know how many times to repeat something.\n",
        "\n",
        "while loop is used when we don’t know how many times, and we want to repeat until a condition is false."
      ],
      "metadata": {
        "id": "7gglxBO4G-CO"
      }
    },
    {
      "cell_type": "markdown",
      "source": [
        "**Que14. Describe a scenario where a while loop is more suitable than a for loop**\n",
        "\n",
        "Ans. A while loop is better when asking the user to guess a number until they get it right. We don’t know how many guesses it will take, so we use while."
      ],
      "metadata": {
        "id": "5kiRhRfzG9-u"
      }
    },
    {
      "cell_type": "markdown",
      "source": [
        "#Practical Questions\n"
      ],
      "metadata": {
        "id": "URtvoZybFw1o"
      }
    },
    {
      "cell_type": "markdown",
      "source": [
        "**1. Write a Python program to print \"Hello, World!y**"
      ],
      "metadata": {
        "id": "wwmVKCde7_oc"
      }
    },
    {
      "cell_type": "code",
      "execution_count": 1,
      "metadata": {
        "colab": {
          "base_uri": "https://localhost:8080/"
        },
        "id": "SZRJ9ag6762z",
        "outputId": "1e074e30-9f95-4a07-af55-152d933bf964"
      },
      "outputs": [
        {
          "output_type": "stream",
          "name": "stdout",
          "text": [
            "Hello ,World\n"
          ]
        }
      ],
      "source": [
        "print(\"Hello ,World\")"
      ]
    },
    {
      "cell_type": "markdown",
      "source": [
        "**2. Write a Python program that displays your name and age**"
      ],
      "metadata": {
        "id": "Xn39s-_78URY"
      }
    },
    {
      "cell_type": "code",
      "source": [
        "name=input(\"enter your name\")\n",
        "age=int(input(\"enter your age\"))\n",
        "print(f\"my name is {name} and my age is {age}\")"
      ],
      "metadata": {
        "colab": {
          "base_uri": "https://localhost:8080/"
        },
        "id": "-8EZvZ4K9TlU",
        "outputId": "709c7d1c-492e-461a-c796-48743fd38826"
      },
      "execution_count": 3,
      "outputs": [
        {
          "output_type": "stream",
          "name": "stdout",
          "text": [
            "enter your nameashish\n",
            "enter your age47\n",
            "my name is ashish and my age is 47\n"
          ]
        }
      ]
    },
    {
      "cell_type": "markdown",
      "source": [
        "** 3.Write code to print all the pre-defined keywords in Python using the keyword library**"
      ],
      "metadata": {
        "id": "6z4h3l4O8X0C"
      }
    },
    {
      "cell_type": "code",
      "source": [
        "import keyword\n",
        "print(keyword.kwlist)"
      ],
      "metadata": {
        "colab": {
          "base_uri": "https://localhost:8080/"
        },
        "id": "rtApfsGl9skJ",
        "outputId": "2e2a17fe-89f9-4299-d34b-6ff5f7db7305"
      },
      "execution_count": 4,
      "outputs": [
        {
          "output_type": "stream",
          "name": "stdout",
          "text": [
            "['False', 'None', 'True', 'and', 'as', 'assert', 'async', 'await', 'break', 'class', 'continue', 'def', 'del', 'elif', 'else', 'except', 'finally', 'for', 'from', 'global', 'if', 'import', 'in', 'is', 'lambda', 'nonlocal', 'not', 'or', 'pass', 'raise', 'return', 'try', 'while', 'with', 'yield']\n"
          ]
        }
      ]
    },
    {
      "cell_type": "markdown",
      "source": [
        "**4. Write a program that checks if a given word is a Python keyword.**"
      ],
      "metadata": {
        "id": "7oHcQ_Bg8Zfs"
      }
    },
    {
      "cell_type": "code",
      "source": [
        "import keyword\n",
        "x=input(\"enter a word\")\n",
        "if x in keyword.kwlist:\n",
        "  print(f\"{x} is a keyword\")\n",
        "else:\n",
        "  print(f\"{x} is not a keyword\")"
      ],
      "metadata": {
        "colab": {
          "base_uri": "https://localhost:8080/"
        },
        "id": "gRAMOlat97aV",
        "outputId": "0e6df7a3-612a-41a0-8ee2-fbc52e87e884"
      },
      "execution_count": 8,
      "outputs": [
        {
          "output_type": "stream",
          "name": "stdout",
          "text": [
            "enter a wordFalse\n",
            "False is a keyword\n"
          ]
        }
      ]
    },
    {
      "cell_type": "markdown",
      "source": [],
      "metadata": {
        "id": "np31zHCV8ZaW"
      }
    },
    {
      "cell_type": "markdown",
      "source": [
        "5.Create a list and tuple in Python, and demonstrate how attempting to change an element works differently\n",
        "for each.\n"
      ],
      "metadata": {
        "id": "j-s9uCFr8ZVc"
      }
    },
    {
      "cell_type": "code",
      "source": [
        "lis=[1,3,\"ashish\",\"kirti\"]\n",
        "tup=(2,4,\"rohit\")\n",
        "print(lis)\n",
        "print(tup)\n",
        "lis[2]=\"rohan\"\n",
        "tup[2]=\"rohan\"                       #cant change items in tuple\n",
        "print(lis)\n",
        "print(tup)"
      ],
      "metadata": {
        "colab": {
          "base_uri": "https://localhost:8080/",
          "height": 245
        },
        "id": "U_KFGe75-S5n",
        "outputId": "2af10f4f-c6c1-4d39-a059-8b35f525f215"
      },
      "execution_count": 9,
      "outputs": [
        {
          "output_type": "stream",
          "name": "stdout",
          "text": [
            "[1, 3, 'ashish', 'kirti']\n",
            "(2, 4, 'rohit')\n"
          ]
        },
        {
          "output_type": "error",
          "ename": "TypeError",
          "evalue": "'tuple' object does not support item assignment",
          "traceback": [
            "\u001b[0;31m---------------------------------------------------------------------------\u001b[0m",
            "\u001b[0;31mTypeError\u001b[0m                                 Traceback (most recent call last)",
            "\u001b[0;32m<ipython-input-9-4fc1d91e6017>\u001b[0m in \u001b[0;36m<cell line: 0>\u001b[0;34m()\u001b[0m\n\u001b[1;32m      4\u001b[0m \u001b[0mprint\u001b[0m\u001b[0;34m(\u001b[0m\u001b[0mtup\u001b[0m\u001b[0;34m)\u001b[0m\u001b[0;34m\u001b[0m\u001b[0;34m\u001b[0m\u001b[0m\n\u001b[1;32m      5\u001b[0m \u001b[0mlis\u001b[0m\u001b[0;34m[\u001b[0m\u001b[0;36m2\u001b[0m\u001b[0;34m]\u001b[0m\u001b[0;34m=\u001b[0m\u001b[0;34m\"rohan\"\u001b[0m\u001b[0;34m\u001b[0m\u001b[0;34m\u001b[0m\u001b[0m\n\u001b[0;32m----> 6\u001b[0;31m \u001b[0mtup\u001b[0m\u001b[0;34m[\u001b[0m\u001b[0;36m2\u001b[0m\u001b[0;34m]\u001b[0m\u001b[0;34m=\u001b[0m\u001b[0;34m\"rohan\"\u001b[0m\u001b[0;34m\u001b[0m\u001b[0;34m\u001b[0m\u001b[0m\n\u001b[0m\u001b[1;32m      7\u001b[0m \u001b[0mprint\u001b[0m\u001b[0;34m(\u001b[0m\u001b[0mlis\u001b[0m\u001b[0;34m)\u001b[0m\u001b[0;34m\u001b[0m\u001b[0;34m\u001b[0m\u001b[0m\n\u001b[1;32m      8\u001b[0m \u001b[0mprint\u001b[0m\u001b[0;34m(\u001b[0m\u001b[0mtup\u001b[0m\u001b[0;34m)\u001b[0m\u001b[0;34m\u001b[0m\u001b[0;34m\u001b[0m\u001b[0m\n",
            "\u001b[0;31mTypeError\u001b[0m: 'tuple' object does not support item assignment"
          ]
        }
      ]
    },
    {
      "cell_type": "markdown",
      "source": [
        "6. Write a function to demonstrate the behavior of mutable and immutable arguments."
      ],
      "metadata": {
        "id": "lVvgQAir8ZSc"
      }
    },
    {
      "cell_type": "code",
      "source": [
        "def func(mutable,immutable):\n",
        "  mutable.append(10)\n",
        "  immutable[1]=\"z\"\n",
        "  print(mutable)\n",
        "  print(immutable)\n",
        "mutable=[1,2,3,4]\n",
        "immutable=(5,6,7,8)\n",
        "func(mutable,immutable)"
      ],
      "metadata": {
        "colab": {
          "base_uri": "https://localhost:8080/",
          "height": 297
        },
        "id": "nGBD2gpU_SoF",
        "outputId": "070c38d7-421a-4041-f497-2556cd5c3019"
      },
      "execution_count": 10,
      "outputs": [
        {
          "output_type": "error",
          "ename": "TypeError",
          "evalue": "'tuple' object does not support item assignment",
          "traceback": [
            "\u001b[0;31m---------------------------------------------------------------------------\u001b[0m",
            "\u001b[0;31mTypeError\u001b[0m                                 Traceback (most recent call last)",
            "\u001b[0;32m<ipython-input-10-542b0c824afb>\u001b[0m in \u001b[0;36m<cell line: 0>\u001b[0;34m()\u001b[0m\n\u001b[1;32m      6\u001b[0m \u001b[0mmutable\u001b[0m\u001b[0;34m=\u001b[0m\u001b[0;34m[\u001b[0m\u001b[0;36m1\u001b[0m\u001b[0;34m,\u001b[0m\u001b[0;36m2\u001b[0m\u001b[0;34m,\u001b[0m\u001b[0;36m3\u001b[0m\u001b[0;34m,\u001b[0m\u001b[0;36m4\u001b[0m\u001b[0;34m]\u001b[0m\u001b[0;34m\u001b[0m\u001b[0;34m\u001b[0m\u001b[0m\n\u001b[1;32m      7\u001b[0m \u001b[0mimmutable\u001b[0m\u001b[0;34m=\u001b[0m\u001b[0;34m(\u001b[0m\u001b[0;36m5\u001b[0m\u001b[0;34m,\u001b[0m\u001b[0;36m6\u001b[0m\u001b[0;34m,\u001b[0m\u001b[0;36m7\u001b[0m\u001b[0;34m,\u001b[0m\u001b[0;36m8\u001b[0m\u001b[0;34m)\u001b[0m\u001b[0;34m\u001b[0m\u001b[0;34m\u001b[0m\u001b[0m\n\u001b[0;32m----> 8\u001b[0;31m \u001b[0mfunc\u001b[0m\u001b[0;34m(\u001b[0m\u001b[0mmutable\u001b[0m\u001b[0;34m,\u001b[0m\u001b[0mimmutable\u001b[0m\u001b[0;34m)\u001b[0m\u001b[0;34m\u001b[0m\u001b[0;34m\u001b[0m\u001b[0m\n\u001b[0m",
            "\u001b[0;32m<ipython-input-10-542b0c824afb>\u001b[0m in \u001b[0;36mfunc\u001b[0;34m(mutable, immutable)\u001b[0m\n\u001b[1;32m      1\u001b[0m \u001b[0;32mdef\u001b[0m \u001b[0mfunc\u001b[0m\u001b[0;34m(\u001b[0m\u001b[0mmutable\u001b[0m\u001b[0;34m,\u001b[0m\u001b[0mimmutable\u001b[0m\u001b[0;34m)\u001b[0m\u001b[0;34m:\u001b[0m\u001b[0;34m\u001b[0m\u001b[0;34m\u001b[0m\u001b[0m\n\u001b[1;32m      2\u001b[0m   \u001b[0mmutable\u001b[0m\u001b[0;34m.\u001b[0m\u001b[0mappend\u001b[0m\u001b[0;34m(\u001b[0m\u001b[0;36m10\u001b[0m\u001b[0;34m)\u001b[0m\u001b[0;34m\u001b[0m\u001b[0;34m\u001b[0m\u001b[0m\n\u001b[0;32m----> 3\u001b[0;31m   \u001b[0mimmutable\u001b[0m\u001b[0;34m[\u001b[0m\u001b[0;36m1\u001b[0m\u001b[0;34m]\u001b[0m\u001b[0;34m=\u001b[0m\u001b[0;34m\"z\"\u001b[0m\u001b[0;34m\u001b[0m\u001b[0;34m\u001b[0m\u001b[0m\n\u001b[0m\u001b[1;32m      4\u001b[0m   \u001b[0mprint\u001b[0m\u001b[0;34m(\u001b[0m\u001b[0mmutable\u001b[0m\u001b[0;34m)\u001b[0m\u001b[0;34m\u001b[0m\u001b[0;34m\u001b[0m\u001b[0m\n\u001b[1;32m      5\u001b[0m   \u001b[0mprint\u001b[0m\u001b[0;34m(\u001b[0m\u001b[0mimmutable\u001b[0m\u001b[0;34m)\u001b[0m\u001b[0;34m\u001b[0m\u001b[0;34m\u001b[0m\u001b[0m\n",
            "\u001b[0;31mTypeError\u001b[0m: 'tuple' object does not support item assignment"
          ]
        }
      ]
    },
    {
      "cell_type": "markdown",
      "source": [
        " 7. Write a program that performs basic arithmetic operations on two user-input numbers.\n",
        "\n"
      ],
      "metadata": {
        "id": "qExszV7E8ZOj"
      }
    },
    {
      "cell_type": "code",
      "source": [
        "x=input(\"enter first no.\")\n",
        "z=input(\"enter second no\")\n",
        "print(\"sum of two numbers\",x+y)\n"
      ],
      "metadata": {
        "id": "5EhEn8b1_ne_"
      },
      "execution_count": null,
      "outputs": []
    },
    {
      "cell_type": "code",
      "source": [
        "8.  Write a program to demonstrate the use of logical operators."
      ],
      "metadata": {
        "id": "3lPGCFB18mo7"
      },
      "execution_count": null,
      "outputs": []
    },
    {
      "cell_type": "code",
      "source": [
        "fruits=[\"apple\",\"grapes\",\"banana\"]\n",
        "print(\"apple\" in fruits)\n",
        "print(\"orange\" in fruits)"
      ],
      "metadata": {
        "id": "695K4O92ATv8"
      },
      "execution_count": null,
      "outputs": []
    },
    {
      "cell_type": "markdown",
      "source": [
        "9. Write a Python program to convert user input from string to integer, float, and boolean types"
      ],
      "metadata": {
        "id": "OXSiEiQG8ZKo"
      }
    },
    {
      "cell_type": "code",
      "source": [
        "def convert_input():\n",
        "    user_input = input(\"Enter a value: \")\n",
        "\n",
        "    # Convert to integer\n",
        "    try:\n",
        "        int_value = int(user_input)\n",
        "        print(f\"Integer: {int_value}\")\n",
        "    except ValueError:\n",
        "        print(\"Cannot convert to integer.\")\n",
        "\n",
        "    # Convert to float\n",
        "    try:\n",
        "        float_value = float(user_input)\n",
        "        print(f\"Float: {float_value}\")\n",
        "    except ValueError:\n",
        "        print(\"Cannot convert to float.\")\n",
        "\n",
        "    # Convert to boolean\n",
        "    bool_value = user_input.strip().lower() in ['true', '1', 'yes', 'on']\n",
        "    print(f\"Boolean: {bool_value}\")\n",
        "\n",
        "convert_input()\n"
      ],
      "metadata": {
        "id": "wOD_DzJkCzw_"
      },
      "execution_count": null,
      "outputs": []
    },
    {
      "cell_type": "code",
      "source": [],
      "metadata": {
        "id": "pTF2I6maAkxa"
      },
      "execution_count": null,
      "outputs": []
    },
    {
      "cell_type": "markdown",
      "source": [
        "10. Write code to demonstrate type casting with list elements."
      ],
      "metadata": {
        "id": "MywWOVtb8ZGX"
      }
    },
    {
      "cell_type": "code",
      "source": [
        "def cast_list_elements():\n",
        "    str_list = [\"1\", \"2\", \"3.5\", \"True\", \"False\", \"10\"]\n",
        "\n",
        "    print(\"Original list (strings):\", str_list)\n",
        "\n",
        "    # Convert to integers (where possible)\n",
        "    int_list = []\n",
        "    for item in str_list:\n",
        "        try:\n",
        "            int_list.append(int(float(item)))  # float first to handle \"3.5\"\n",
        "        except ValueError:\n",
        "            int_list.append(None)  # Use None to mark failed conversions\n",
        "    print(\"Converted to integers:\", int_list)\n",
        "\n",
        "    # Convert to floats\n",
        "    float_list = []\n",
        "    for item in str_list:\n",
        "        try:\n",
        "            float_list.append(float(item))\n",
        "        except ValueError:\n",
        "            float_list.append(None)\n",
        "    print(\"Converted to floats:\", float_list)\n",
        "\n",
        "    # Convert to booleans\n",
        "    bool_list = [s.strip().lower() in ['true', '1', 'yes', 'on'] for s in str_list]\n",
        "    print(\"Converted to booleans:\", bool_list)\n",
        "\n",
        "cast_list_elements()\n"
      ],
      "metadata": {
        "id": "fW5mcAP7DA1R"
      },
      "execution_count": null,
      "outputs": []
    },
    {
      "cell_type": "markdown",
      "source": [
        "11. Write a program that checks if a number is positive, negative, or zero."
      ],
      "metadata": {
        "id": "wGPDGbzU8ZCw"
      }
    },
    {
      "cell_type": "code",
      "source": [
        "x=input(\"enter a number\")\n",
        "if int(x)>0:\n",
        "  print(f\"{x} is positive\")\n",
        "elif int(x)<0:\n",
        "  print(f\"{x} is negative\")\n",
        "else:\n",
        "  print(f\"{x} is zero\")"
      ],
      "metadata": {
        "id": "UikUIZ_5856a"
      },
      "execution_count": null,
      "outputs": []
    },
    {
      "cell_type": "markdown",
      "source": [
        "12.  Write a for loop to print numbers from 1 to 10."
      ],
      "metadata": {
        "id": "XDGrKSQ-8Y-g"
      }
    },
    {
      "cell_type": "code",
      "source": [
        "for i in range(1,11):\n",
        "  print(i)"
      ],
      "metadata": {
        "id": "qLPgiTXsEFL_"
      },
      "execution_count": null,
      "outputs": []
    },
    {
      "cell_type": "markdown",
      "source": [
        "13.Write a Python program to find the sum of all even numbers between 1 and 50."
      ],
      "metadata": {
        "id": "5aJfAMuI8Y6M"
      }
    },
    {
      "cell_type": "code",
      "source": [
        "for i in range(1,51):\n",
        "  if i%2==0:\n",
        "    print(i)"
      ],
      "metadata": {
        "id": "DdzOKW1NELtf"
      },
      "execution_count": null,
      "outputs": []
    },
    {
      "cell_type": "markdown",
      "source": [
        "14.  Write a program to reverse a string using a while loop."
      ],
      "metadata": {
        "id": "w_Ox7twh8Y1g"
      }
    },
    {
      "cell_type": "code",
      "source": [
        "x=input(\"enter a string\")\n",
        "i=len(x)-1\n",
        "while(i>0):\n",
        "  print(x[i])\n",
        "  i-=1"
      ],
      "metadata": {
        "id": "PAxCRQwCEPOb"
      },
      "execution_count": null,
      "outputs": []
    },
    {
      "cell_type": "markdown",
      "source": [
        "15. Write a Python program to calculate the factorial of a number provided by the user using a while loop."
      ],
      "metadata": {
        "id": "wLOajowE8Yvn"
      }
    },
    {
      "cell_type": "code",
      "source": [
        "x=int(input(\"enter a number\"))\n",
        "fact=1\n",
        "while(x>0):\n",
        "  fact*=x\n",
        "  x-=1\n",
        "print(fact)"
      ],
      "metadata": {
        "id": "RVzavF9iFevy"
      },
      "execution_count": null,
      "outputs": []
    },
    {
      "cell_type": "code",
      "source": [],
      "metadata": {
        "id": "juzOAl228Sus"
      },
      "execution_count": null,
      "outputs": []
    }
  ]
}