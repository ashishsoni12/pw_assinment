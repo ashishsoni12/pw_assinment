{
  "nbformat": 4,
  "nbformat_minor": 0,
  "metadata": {
    "colab": {
      "provenance": []
    },
    "kernelspec": {
      "name": "python3",
      "display_name": "Python 3"
    },
    "language_info": {
      "name": "python"
    }
  },
  "cells": [
    {
      "cell_type": "markdown",
      "source": [
        "# Theory questions"
      ],
      "metadata": {
        "id": "b7YW9ONkLsRq"
      }
    },
    {
      "cell_type": "markdown",
      "source": [
        "**1.What is Object-Oriented Programming (OOP)?**\n",
        "\n",
        "Object-Oriented Programming is a programming style that uses objects and classes to structure code. It’s like organizing your real-world items (like a car or phone) into code with properties (like color, size) and actions (like drive, call). OOP helps write clean, reusable, and scalable code."
      ],
      "metadata": {
        "id": "8ytMrO4rLsOf"
      }
    },
    {
      "cell_type": "markdown",
      "source": [
        "**2. What is a class in OOP?**\n",
        "\n",
        "\n",
        "A class is like a blueprint for creating objects. It defines what attributes (data) and methods (functions) an object will have. Think of a class as a plan for building a house — it tells you what each house (object) will contain."
      ],
      "metadata": {
        "id": "0Tgn3MVsLsLt"
      }
    },
    {
      "cell_type": "markdown",
      "source": [
        "**3. What is an object in OOP?**\n",
        "\n",
        "\n",
        "An object is an actual instance of a class. If a class is a blueprint, an object is the real house built from it. You can create multiple objects from a class, each with its own data."
      ],
      "metadata": {
        "id": "M22l3eafLsJN"
      }
    },
    {
      "cell_type": "markdown",
      "source": [
        "**4. What is the difference between abstraction and encapsulation?**\n",
        "\n",
        "\n",
        "Abstraction is about hiding complex logic and showing only the necessary parts. Like using a coffee machine — you press a button and get coffee, without knowing the inner process.\n",
        "\n",
        "Encapsulation is about protecting data by keeping it inside a class and restricting direct access. It wraps data and methods together like a capsule.\n",
        "\n"
      ],
      "metadata": {
        "id": "AOaVOIz6LsGe"
      }
    },
    {
      "cell_type": "markdown",
      "source": [
        "**5. What are dunder methods in Python?**\n",
        "\n",
        "Dunder methods (short for double underscore methods, like __init__, __str__, __len__) are special methods that Python uses internally. They allow your class to behave like built-in types and support operator overloading.\n",
        "\n"
      ],
      "metadata": {
        "id": "RrKdk9T3LsEH"
      }
    },
    {
      "cell_type": "markdown",
      "source": [
        "**6. Explain the concept of inheritance in OOP**\n",
        "\n",
        "Inheritance allows a class (child) to reuse the properties and methods of another class (parent). It promotes code reuse. For example, a Dog class can inherit from an Animal class and automatically get attributes like eat() or sleep().\n",
        "\n"
      ],
      "metadata": {
        "id": "k-hh8Lv3LsBl"
      }
    },
    {
      "cell_type": "markdown",
      "source": [
        "**7. What is polymorphism in OOP?**\n",
        "\n",
        "Polymorphism means “many forms” — the same method or function name can work differently depending on the object. For example, speak() can work differently for Dog, Cat, and Bird, but the code calling it doesn’t have to change.\n",
        "\n",
        "\n"
      ],
      "metadata": {
        "id": "rQNf4ZDrLr_U"
      }
    },
    {
      "cell_type": "markdown",
      "source": [
        "**8. How is encapsulation achieved in Python?**\n",
        "\n",
        "In Python, encapsulation is achieved by:\n",
        "\n",
        "Using private variables (_var or __var) inside a class.\n",
        "\n",
        "Using getters and setters (or the @property decorator) to control access to private data."
      ],
      "metadata": {
        "id": "u7-UNz07Lr9C"
      }
    },
    {
      "cell_type": "markdown",
      "source": [
        "**9. What is a constructor in Python?**\n",
        "\n",
        "A constructor is a special method named __init__() that runs automatically when an object is created. It’s used to initialize the object’s attributes (like setting name, age, etc.)."
      ],
      "metadata": {
        "id": "oIsd9eTnLr6n"
      }
    },
    {
      "cell_type": "markdown",
      "source": [
        "**10. What are class and static methods in Python?**\n",
        "\n",
        "Class methods (marked with @classmethod) can access and modify class variables.\n",
        "\n",
        "Static methods (marked with @staticmethod) do not access instance or class data; they’re like regular functions inside a class."
      ],
      "metadata": {
        "id": "iv-1r5BwLr4P"
      }
    },
    {
      "cell_type": "markdown",
      "source": [
        "**11. What is method overloading in Python?**\n",
        "\n",
        "Method overloading means defining multiple methods with the same name but different arguments. Python doesn’t support it directly, but you can mimic it using default parameters or *args."
      ],
      "metadata": {
        "id": "q8LURLtILr1v"
      }
    },
    {
      "cell_type": "markdown",
      "source": [
        "**12. What is method overriding in OOP?**\n",
        "\n",
        "Method overriding happens when a child class redefines a method from its parent class. This is useful when you want different behavior in the child class for the same method name."
      ],
      "metadata": {
        "id": "qvAWcyw2LrzY"
      }
    },
    {
      "cell_type": "markdown",
      "source": [
        "**13. What is a property decorator in Python?**\n",
        "\n",
        "The @property decorator is used to turn a method into a read-only attribute. It’s a neat way to access a method like an attribute without using parentheses.\n"
      ],
      "metadata": {
        "id": "RLG169rFLrwp"
      }
    },
    {
      "cell_type": "code",
      "source": [
        "@property\n",
        "def age(self):\n",
        "    return self._age\n"
      ],
      "metadata": {
        "id": "1OJEhEvgN9s4"
      },
      "execution_count": 24,
      "outputs": []
    },
    {
      "cell_type": "markdown",
      "source": [
        "**14. Why is polymorphism important in OOP?**\n",
        "\n",
        "Polymorphism makes code more flexible and scalable. It allows you to write generic code that works with different types of objects, making your program easier to extend and maintain.\n",
        "\n",
        "\n"
      ],
      "metadata": {
        "id": "V--8n7ZHLrtb"
      }
    },
    {
      "cell_type": "markdown",
      "source": [
        "**15. What is an abstract class in Python?**\n",
        "An abstract class is a base class that can’t be instantiated directly. It contains one or more abstract methods (defined with @abstractmethod) that must be implemented by subclasses. It’s used to define a common interface."
      ],
      "metadata": {
        "id": "cK4gsCy7Lrgf"
      }
    },
    {
      "cell_type": "markdown",
      "source": [
        "**16. What are the advantages of OOP?**\n",
        "\n",
        "Code Reusability (through inheritance)\n",
        "Modularity (code is organized in classes)\n",
        "\n",
        "Encapsulation (data protection)\n",
        "\n",
        "Polymorphism (flexible code)\n",
        "\n",
        "Easier maintenance and debugging\n",
        "\n"
      ],
      "metadata": {
        "id": "N7ct7VwHOJfb"
      }
    },
    {
      "cell_type": "markdown",
      "source": [
        "**17. What is multiple inheritance in Python?**\n",
        "\n",
        "Multiple inheritance means a class can inherit from more than one parent class. Python allows this, but it can get tricky with overlapping methods or attributes."
      ],
      "metadata": {
        "id": "N5oaOklbOJbP"
      }
    },
    {
      "cell_type": "markdown",
      "source": [
        "**18. What is the difference between a class variable and an instance variable?**\n",
        "\n",
        "Class variable: Shared by all instances of the class.\n",
        "\n",
        "Instance variable: Unique to each object."
      ],
      "metadata": {
        "id": "rcK8cnmUOJXn"
      }
    },
    {
      "cell_type": "code",
      "source": [
        "class Dog:\n",
        "    species = \"Canine\"  # class variable\n",
        "    def __init__(self, name):\n",
        "        self.name = name  # instance variable\n"
      ],
      "metadata": {
        "id": "lGY6vRsMOY2j"
      },
      "execution_count": 25,
      "outputs": []
    },
    {
      "cell_type": "markdown",
      "source": [
        "**19. Explain the purpose of __str__ and __repr__ methods in Python**\n",
        "\n",
        "__str__: Defines what’s shown when you print an object — meant to be user-friendly.\n",
        "\n",
        "__repr__: Meant for debugging and developers, should return a string that could recreate the object."
      ],
      "metadata": {
        "id": "BdKw5_tdOJSb"
      }
    },
    {
      "cell_type": "markdown",
      "source": [
        "**20. What is the significance of the super() function in Python?**\n",
        "\n",
        "\n",
        "super() allows you to call methods from the parent class. It’s useful in inheritance when you want to extend the functionality of the parent class, not completely replace it.\n",
        "\n"
      ],
      "metadata": {
        "id": "3ugvKJ-QOog1"
      }
    },
    {
      "cell_type": "markdown",
      "source": [
        "**21. What is the significance of the __del__ method in Python?**\n",
        "\n",
        "__del__ is the destructor method. It runs when an object is about to be deleted. It's used for cleanup (like closing a file or releasing resources)."
      ],
      "metadata": {
        "id": "feMiqSFPOocv"
      }
    },
    {
      "cell_type": "markdown",
      "source": [
        "\n",
        "**22. What is the difference between @staticmethod and @classmethod in Python?**\n",
        "\n",
        "@staticmethod: Doesn’t access class or instance. Just a function inside a class.\n",
        "\n",
        "@classmethod: Takes cls as the first argument and can modify class-level data.\n",
        "\n"
      ],
      "metadata": {
        "id": "vmTrhEOtOoWZ"
      }
    },
    {
      "cell_type": "markdown",
      "source": [
        "**23. How does polymorphism work in Python with inheritance?**\n",
        "In inheritance, polymorphism lets you use a parent class reference to refer to a child class object. When you call a method, Python runs the child class’s version — this is dynamic method resolution.\n",
        "\n"
      ],
      "metadata": {
        "id": "OBX_lbBeOoSd"
      }
    },
    {
      "cell_type": "markdown",
      "source": [
        "**24. What is method chaining in Python OOP?**\n",
        "Method chaining means calling multiple methods on the same object in one line, like:"
      ],
      "metadata": {
        "id": "8B7iKLUgOJNg"
      }
    },
    {
      "cell_type": "code",
      "source": [
        "object.set_name(\"Ash\").set_age(25).save()\n"
      ],
      "metadata": {
        "id": "gG4iqW9UPBK-",
        "outputId": "0c43c59a-27b4-4729-c55a-879ed3b31781",
        "colab": {
          "base_uri": "https://localhost:8080/",
          "height": 141
        }
      },
      "execution_count": 26,
      "outputs": [
        {
          "output_type": "error",
          "ename": "AttributeError",
          "evalue": "type object 'object' has no attribute 'set_name'",
          "traceback": [
            "\u001b[0;31m---------------------------------------------------------------------------\u001b[0m",
            "\u001b[0;31mAttributeError\u001b[0m                            Traceback (most recent call last)",
            "\u001b[0;32m<ipython-input-26-6e4519a1e2e5>\u001b[0m in \u001b[0;36m<cell line: 0>\u001b[0;34m()\u001b[0m\n\u001b[0;32m----> 1\u001b[0;31m \u001b[0mobject\u001b[0m\u001b[0;34m.\u001b[0m\u001b[0mset_name\u001b[0m\u001b[0;34m(\u001b[0m\u001b[0;34m\"Ash\"\u001b[0m\u001b[0;34m)\u001b[0m\u001b[0;34m.\u001b[0m\u001b[0mset_age\u001b[0m\u001b[0;34m(\u001b[0m\u001b[0;36m25\u001b[0m\u001b[0;34m)\u001b[0m\u001b[0;34m.\u001b[0m\u001b[0msave\u001b[0m\u001b[0;34m(\u001b[0m\u001b[0;34m)\u001b[0m\u001b[0;34m\u001b[0m\u001b[0;34m\u001b[0m\u001b[0m\n\u001b[0m",
            "\u001b[0;31mAttributeError\u001b[0m: type object 'object' has no attribute 'set_name'"
          ]
        }
      ]
    },
    {
      "cell_type": "markdown",
      "source": [
        "# Practical Questions\n"
      ],
      "metadata": {
        "id": "UjRc7nBiKzQ2"
      }
    },
    {
      "cell_type": "code",
      "execution_count": 4,
      "metadata": {
        "colab": {
          "base_uri": "https://localhost:8080/"
        },
        "id": "qQBHSHf4s4CX",
        "outputId": "95c388f3-c112-41c3-bfd1-9cd752400cfd"
      },
      "outputs": [
        {
          "output_type": "stream",
          "name": "stdout",
          "text": [
            "Bark!\n"
          ]
        }
      ],
      "source": [
        "# 1. Create a parent class Animal with a method speak() that prints a generic message. Create a child class Dog\n",
        "# that overrides the speak() method to print \"Bark!\".\n",
        "\n",
        "class Animal:\n",
        "  def speak(self):\n",
        "    print(\"Animal speaking\")\n",
        "class Dog(Animal):\n",
        "  def speak(self):\n",
        "    print(\"Bark!\")\n",
        "dog = Dog()\n",
        "dog.speak()\n",
        "\n",
        "\n",
        "\n",
        "\n"
      ]
    },
    {
      "cell_type": "code",
      "source": [
        "# 2. Write a program to create an abstract class Shape with a method area(). Derive classes Circle and Rectangle\n",
        "# from it and implement the area() method in both.\n",
        "\n",
        "\n",
        "from abc import ABC, abstractmethod\n",
        "\n",
        "class Shape(ABC):\n",
        "    @abstractmethod\n",
        "    def area(self):\n",
        "        pass\n",
        "class Circle(Shape):\n",
        "  def __init__(self,radius):\n",
        "    self.radius=radius\n",
        "  def area(self):\n",
        "    return 3.14*self.radius*self.radius\n",
        "class Rectangle(ABC):\n",
        "  def __init__(self,length,width):\n",
        "    self.length=length\n",
        "    self.width=width\n",
        "  def area(self):\n",
        "    return self.length*self.width\n",
        "circle=Circle(5)\n",
        "print(circle.area())\n",
        "rectangle=Rectangle(4,5)\n",
        "print(rectangle.area())"
      ],
      "metadata": {
        "colab": {
          "base_uri": "https://localhost:8080/"
        },
        "id": "8Ohi46uYtIki",
        "outputId": "2ff68016-3144-4c54-dfe3-4346b76adc5a"
      },
      "execution_count": 5,
      "outputs": [
        {
          "output_type": "stream",
          "name": "stdout",
          "text": [
            "78.5\n",
            "20\n"
          ]
        }
      ]
    },
    {
      "cell_type": "code",
      "source": [
        "# 3. Implement a multi-level inheritance scenario where a class Vehicle has an attribute type. Derive a class Car\n",
        "# and further derive a class ElectricCar that adds a battery attribute.\n",
        "\n",
        "class Vehicle:\n",
        "  def __init__(self,type):    #type attribute\n",
        "    self.type=type\n",
        "  def display_info(self):\n",
        "    print(f\"Vehicle type: {self.type}\")\n",
        "class Car(Vehicle):\n",
        "  def __init__(self,type,brand):\n",
        "    super().__init__(Vehicle)\n",
        "    self.brand=brand\n",
        "  def display_info(self):\n",
        "    super().display_info()\n",
        "    print(f\"car brand: {self.brand}\")\n",
        "class ElectricCar(Car):\n",
        "  def __init__(self,type,brand,battery_capacity):\n",
        "    super().__init__(type,brand)\n",
        "    self.battery_capacity=battery_capacity\n",
        "  def display_info(self):\n",
        "    super().display_info()\n",
        "    print(f\"battery capacity: {self.battery_capacity}\")\n",
        "electric_car=ElectricCar(\"Electric\",\"Tesla\",75)\n",
        "electric_car.display_info()\n"
      ],
      "metadata": {
        "colab": {
          "base_uri": "https://localhost:8080/"
        },
        "id": "-zT1aEVFtPN2",
        "outputId": "86644555-a3db-458b-8075-8093aa03e818"
      },
      "execution_count": 1,
      "outputs": [
        {
          "output_type": "stream",
          "name": "stdout",
          "text": [
            "Vehicle type: <class '__main__.Vehicle'>\n",
            "car brand: Tesla\n",
            "battery capacity: 75\n"
          ]
        }
      ]
    },
    {
      "cell_type": "code",
      "source": [
        "#4. Demonstrate polymorphism by creating a base class Bird with a method fly(). Create two derived classes\n",
        "#Sparrow and Penguin that override the fly() method.\n",
        "\n",
        "\n",
        "class Bird():\n",
        "  def fly(self):\n",
        "    print(\"bird is flying\")\n",
        "class Sparrow(Bird):\n",
        "  def fly(self):\n",
        "    print(\"Sparrow is flying\")\n",
        "class Penguin(Bird):\n",
        "  def fly(Self):\n",
        "    print(\"Penguin can not fly\")\n",
        "obj=Bird()\n",
        "obj.fly()\n",
        "obj1=Sparrow()\n",
        "obj1.fly()\n",
        "obj2=Penguin()\n",
        "obj2.fly()\n",
        "\n",
        "\n",
        "\n"
      ],
      "metadata": {
        "colab": {
          "base_uri": "https://localhost:8080/"
        },
        "id": "gCD4fi6ZtR1Q",
        "outputId": "ad89cea5-7167-4710-f2dd-9c95d8c7fc30"
      },
      "execution_count": 1,
      "outputs": [
        {
          "output_type": "stream",
          "name": "stdout",
          "text": [
            "bird is flying\n",
            "Sparrow is flying\n",
            "Penguin can not fly\n"
          ]
        }
      ]
    },
    {
      "cell_type": "code",
      "source": [
        "#5. Write a program to demonstrate encapsulation by creating a class BankAccount with private attributes\n",
        "#balance and methods to deposit, withdraw, and check balance.\n",
        "\n",
        "class BankAccount:\n",
        "  def __init__(self,balance):\n",
        "    self.__balance=balance    #private attribute define by double undersore\n",
        "  def deposit(self,amount_deposit):\n",
        "    self.__balance+=amount_deposit\n",
        "  def withdraw(self,amount_withdraw):\n",
        "    if self.__balance>=amount_withdraw:\n",
        "      self.__balance-=amount_withdraw\n",
        "    else:\n",
        "      print(\"insufficient balance\")\n",
        "  def check_balance(self):\n",
        "    return self.__balance\n",
        "obj=BankAccount(1000)\n",
        "obj.deposit(500)\n",
        "obj.withdraw(200)\n",
        "print(obj.check_balance())\n",
        "\n",
        ""
      ],
      "metadata": {
        "colab": {
          "base_uri": "https://localhost:8080/"
        },
        "id": "i14jTI8otRxz",
        "outputId": "b43cd58e-112c-481c-de9f-93764b72f15a"
      },
      "execution_count": 3,
      "outputs": [
        {
          "output_type": "stream",
          "name": "stdout",
          "text": [
            "1300\n"
          ]
        }
      ]
    },
    {
      "cell_type": "code",
      "source": [
        "#6. Demonstrate runtime polymorphism using a method play() in a base class Instrument. Derive classes Guitar\n",
        "#and Piano that implement their own version of play().\n",
        "\n",
        "class Instrument:\n",
        "  def play(self):\n",
        "    print(\"Instrument is playing\")\n",
        "class Guitar(Instrument):\n",
        "  def play(self):\n",
        "    print(\"Guitar is playing\")\n",
        "class Piano(Instrument):\n",
        "  def play(self):\n",
        "    print(\"Piano is playing\")\n",
        "obj=Instrument()\n",
        "obj.play()"
      ],
      "metadata": {
        "colab": {
          "base_uri": "https://localhost:8080/"
        },
        "id": "Cifma9gEtRve",
        "outputId": "c8afe61d-7169-4396-e356-f71f6a0eee50"
      },
      "execution_count": 4,
      "outputs": [
        {
          "output_type": "stream",
          "name": "stdout",
          "text": [
            "Instrument is playing\n"
          ]
        }
      ]
    },
    {
      "cell_type": "code",
      "source": [
        "#7. Create a class MathOperations with a class method add_numbers() to add two numbers and a static\n",
        "#method subtract_numbers() to subtract two numbers.\n",
        "\n",
        "\n",
        "\n",
        "# No this or self reference: Since static methods are not tied to an instance, they can't access instance variables or methods.\n",
        "\n",
        "# Belongs to the class: Can be called using the class name.\n",
        "\n",
        "# Can access only static data: Static methods can only access static variables and call other static methods.\n",
        "class MathOperations:\n",
        "  def __init__(self,a,b):\n",
        "    self.a=a\n",
        "    self.b=b\n",
        "  def add_numbers(self):\n",
        "    return self.a+self.b\n",
        "  @staticmethod\n",
        "  def subtract_numbers(a,b):\n",
        "    return a-b\n",
        "\n",
        "\n",
        "obj=MathOperations(10,5)\n",
        "print(obj.add_numbers())\n",
        "print(MathOperations.subtract_numbers(10,5))\n"
      ],
      "metadata": {
        "colab": {
          "base_uri": "https://localhost:8080/"
        },
        "id": "DBS36ttltRsQ",
        "outputId": "34f4d84f-1fea-4988-c1c0-825fca48e252"
      },
      "execution_count": 5,
      "outputs": [
        {
          "output_type": "stream",
          "name": "stdout",
          "text": [
            "15\n",
            "5\n"
          ]
        }
      ]
    },
    {
      "cell_type": "code",
      "source": [
        " #8. Implement a class Person with a class method to count the total number of persons created.\n",
        "\n",
        " class Person:\n",
        "  count=0\n",
        "  def __init__(self,name,age):\n",
        "    self.name=name\n",
        "    self.age=age\n",
        "    Person.count+=1\n",
        "  @classmethod\n",
        "  def get_count(cls):\n",
        "    return cls.count"
      ],
      "metadata": {
        "id": "dZs-t0HQtRp0"
      },
      "execution_count": null,
      "outputs": []
    },
    {
      "cell_type": "code",
      "source": [
        " #9. Write a class Fraction with attributes numerator and denominator. Override the str method to display the\n",
        "#fraction as \"numerator/denominator\".\n",
        "\n",
        " class Fraction:\n",
        "  def __init__(self,numerator,denominator):\n",
        "    self.numerator=numerator\n",
        "    self.denominator=denominator\n",
        "  def __str__(self):\n",
        "    return f\"{self.numerator}/{self.denominator}\"\n",
        "\n",
        "obj=Fraction(1,2)\n",
        "print(obj)"
      ],
      "metadata": {
        "colab": {
          "base_uri": "https://localhost:8080/"
        },
        "id": "5S_V8RhWtRnO",
        "outputId": "963ef8d6-f8fe-46b4-b1c1-692c5b9adf80"
      },
      "execution_count": 7,
      "outputs": [
        {
          "output_type": "stream",
          "name": "stdout",
          "text": [
            "1/2\n"
          ]
        }
      ]
    },
    {
      "cell_type": "code",
      "source": [
        "# 10. Demonstrate operator overloading by creating a class Vector and overriding the add method to add two\n",
        "#vectors.\n",
        "\n",
        "\n",
        "class Vector:\n",
        "  def __init__(self,x,y):\n",
        "    self.x=x\n",
        "    self.y=y\n",
        "  def __add__(self,other):\n",
        "    return Vector(self.x+other.x,self.y+other.y)\n",
        "  def __str__(self):\n",
        "        return f\"Vector({self.x}, {self.y})\"\n",
        "\n",
        "obj=Vector(1,2)\n",
        "obj1=Vector(3,4)\n",
        "print(obj+obj1)"
      ],
      "metadata": {
        "colab": {
          "base_uri": "https://localhost:8080/"
        },
        "id": "_1c5bd7btRky",
        "outputId": "48655f9e-dab9-4c4d-8880-0983623f22e0"
      },
      "execution_count": 10,
      "outputs": [
        {
          "output_type": "stream",
          "name": "stdout",
          "text": [
            "Vector(4, 6)\n"
          ]
        }
      ]
    },
    {
      "cell_type": "code",
      "source": [
        " #11. Create a class Person with attributes name and age. Add a method greet() that prints \"Hello, my name is\n",
        "#{name} and I am {age} years old.\"\n",
        "\n",
        "class Person:\n",
        "  def __init__(self,name,age):\n",
        "    self.name=name\n",
        "    self.age=age\n",
        "  def greet(self):\n",
        "    print(f\"Hello, my name is {self.name} and I am {self.age} years old.\")\n",
        "obj=Person(\"ashish\",30)\n",
        "obj.greet()"
      ],
      "metadata": {
        "colab": {
          "base_uri": "https://localhost:8080/"
        },
        "id": "DM4x6CgStRiV",
        "outputId": "81ed0861-9c61-4e8a-e931-c8013f081787"
      },
      "execution_count": 11,
      "outputs": [
        {
          "output_type": "stream",
          "name": "stdout",
          "text": [
            "Hello, my name is ashish and I am 30 years old.\n"
          ]
        }
      ]
    },
    {
      "cell_type": "code",
      "source": [
        "# 12. Implement a class Student with attributes name and grades. Create a method average_grade() to compute\n",
        "#the average of the grades.\n",
        "\n",
        "class Student:\n",
        "  def __init__(self,name,grades):\n",
        "    self.name=name\n",
        "    self.grades=grades\n",
        "  def average_grade(self):\n",
        "    return sum(self.grades)/len(self.grades)\n",
        "obj=Student(\"ashish\",[10,20,30])\n",
        "print(obj.average_grade())"
      ],
      "metadata": {
        "colab": {
          "base_uri": "https://localhost:8080/"
        },
        "id": "czITBRgStRf_",
        "outputId": "0b167a57-1e97-4297-f836-d6bbda88ee20"
      },
      "execution_count": 13,
      "outputs": [
        {
          "output_type": "stream",
          "name": "stdout",
          "text": [
            "20.0\n"
          ]
        }
      ]
    },
    {
      "cell_type": "code",
      "source": [
        "# 13. Create a class Rectangle with methods set_dimensions() to set the dimensions and area() to calculate the\n",
        "#area.\n",
        "\n",
        "class Rectangle:\n",
        "  def set_dimensions(self,length,width):\n",
        "    self.length=length\n",
        "    self.width=width\n",
        "  def area(self):\n",
        "    return self.length*self.width\n",
        "obj=Rectangle()\n",
        "obj.set_dimensions(10,20)\n",
        "print(obj.area())"
      ],
      "metadata": {
        "colab": {
          "base_uri": "https://localhost:8080/"
        },
        "id": "EdW6twUZtRdq",
        "outputId": "0fddc2ff-19ba-4ad4-c6a9-285bbacb9353"
      },
      "execution_count": 14,
      "outputs": [
        {
          "output_type": "stream",
          "name": "stdout",
          "text": [
            "200\n"
          ]
        }
      ]
    },
    {
      "cell_type": "code",
      "source": [
        "# 14. Create a class Employee with a method calculate_salary() that computes the salary based on hours worked\n",
        "#and hourly rate. Create a derived class Manager that adds a bonus to the salary.\n",
        "\n",
        "class Employee:\n",
        "  def calculate_salary(self,hours_worked,hourly_rate):\n",
        "    return hours_worked*hourly_rate\n",
        "class Manager(Employee):\n",
        "  def calculate_salary(self,hours_worked,hourly_rate):\n",
        "    salary=super().calculate_salary(hours_worked,hourly_rate)\n",
        "    return salary+1000\n",
        "obj=Employee()\n",
        "print(obj.calculate_salary(10,20))\n",
        "obj1=Manager()\n",
        "print(obj1.calculate_salary(10,20))"
      ],
      "metadata": {
        "colab": {
          "base_uri": "https://localhost:8080/"
        },
        "id": "0Wawy4EVtRbT",
        "outputId": "ce106b83-c297-44ed-e6df-f63e60063c3f"
      },
      "execution_count": 15,
      "outputs": [
        {
          "output_type": "stream",
          "name": "stdout",
          "text": [
            "200\n",
            "1200\n"
          ]
        }
      ]
    },
    {
      "cell_type": "code",
      "source": [
        "#15. Create a class Product with attributes name, price, and quantity. Implement a method total_price() that\n",
        "#calculates the total price of the product.\n",
        "\n",
        "class Product:\n",
        "  def __init__(self,name,price,quantity):\n",
        "    self.name=name\n",
        "    self.price=price\n",
        "    self.quantity=quantity\n",
        "  def total_price(self):\n",
        "    return self.price*self.quantity\n",
        "\n",
        "obj=Product(\"pen\",10,2)\n",
        "print(obj.total_price())"
      ],
      "metadata": {
        "colab": {
          "base_uri": "https://localhost:8080/"
        },
        "id": "9ro7fLastRY-",
        "outputId": "7df62a30-8230-47bb-fc09-edf27e4209ca"
      },
      "execution_count": 17,
      "outputs": [
        {
          "output_type": "stream",
          "name": "stdout",
          "text": [
            "20\n"
          ]
        }
      ]
    },
    {
      "cell_type": "code",
      "source": [
        "# 16. Create a class Animal with an abstract method sound(). Create two derived classes Cow and Sheep that\n",
        "#implement the sound() method.\n",
        "\n",
        "from abc import ABC,abstractmethod\n",
        "class Animal(ABC):\n",
        "  @abstractmethod\n",
        "  def sound(self):\n",
        "    pass\n",
        "class Cow(Animal):\n",
        "  def sound(self):\n",
        "    print(\"Cow is making sound\")\n",
        "class sheep(Animal):\n",
        "  def sound(self):\n",
        "    print(\"sheep is making sound\")\n",
        "obj=Cow()\n",
        "obj.sound()\n",
        "obj1=sheep()\n",
        "obj1.sound()"
      ],
      "metadata": {
        "colab": {
          "base_uri": "https://localhost:8080/"
        },
        "id": "b6X38YFBtRWp",
        "outputId": "e75d0409-833d-446c-fe05-081e0b93fb93"
      },
      "execution_count": 18,
      "outputs": [
        {
          "output_type": "stream",
          "name": "stdout",
          "text": [
            "Cow is making sound\n",
            "sheep is making sound\n"
          ]
        }
      ]
    },
    {
      "cell_type": "code",
      "source": [
        "# 17. Create a class Book with attributes title, author, and year_published. Add a method get_book_info() that\n",
        "#returns a formatted string with the book's details.\n",
        "class Book:\n",
        "  def __init__(self,title,author,year_published):\n",
        "    self.title=title\n",
        "    self.author=author\n",
        "    self.year_published=year_published\n",
        "  def get_book_info(self):\n",
        "      return f\"Title: {self.title}\\nAuthor: {self.author}\\nYear Published: {self.year_published}\"\n",
        "\n",
        "obj=Book(\"python\",\"ashish\",2023)\n",
        "print(obj.get_book_info())"
      ],
      "metadata": {
        "colab": {
          "base_uri": "https://localhost:8080/"
        },
        "id": "UzohedzKtRUS",
        "outputId": "dfd88838-929b-4fa8-f645-19504f6d0c98"
      },
      "execution_count": 21,
      "outputs": [
        {
          "output_type": "stream",
          "name": "stdout",
          "text": [
            "Title: python\n",
            "Author: ashish\n",
            "Year Published: 2023\n"
          ]
        }
      ]
    },
    {
      "cell_type": "code",
      "source": [
        "# 18. Create a class House with attributes address and price. Create a derived class Mansion that adds an\n",
        "#attribute number_of_rooms.\n",
        "\n",
        "\n",
        "\n",
        "class House:\n",
        "  def __init__(self,address,price):\n",
        "    self.address=address\n",
        "    self.price=price\n",
        "\n",
        "class Mansion(House):\n",
        "  def __init__(self,address,price,number_of_rooms):\n",
        "    super().__init__(address,price)\n",
        "    self.number_of_rooms=number_of_rooms\n",
        "  def display_info(self):\n",
        "    print(f\"Address: {self.address}\\nPrice: {self.price}\\nNumber of rooms: {self.number_of_rooms}\")\n",
        "obj=Mansion(\"123 Main St\",1000000,5)\n",
        "obj.display_info()"
      ],
      "metadata": {
        "colab": {
          "base_uri": "https://localhost:8080/"
        },
        "id": "8o5i-CuxtRR2",
        "outputId": "99ee6cc3-a03f-4a65-a717-7dddd831e9e2"
      },
      "execution_count": 23,
      "outputs": [
        {
          "output_type": "stream",
          "name": "stdout",
          "text": [
            "Address: 123 Main St\n",
            "Price: 1000000\n",
            "Number of rooms: 5\n"
          ]
        }
      ]
    },
    {
      "cell_type": "code",
      "source": [],
      "metadata": {
        "id": "H3mvNd4xtRPR"
      },
      "execution_count": null,
      "outputs": []
    },
    {
      "cell_type": "code",
      "source": [],
      "metadata": {
        "id": "xrV5d5fRtRNS"
      },
      "execution_count": null,
      "outputs": []
    },
    {
      "cell_type": "code",
      "source": [],
      "metadata": {
        "id": "tJeM5FsDtRKx"
      },
      "execution_count": null,
      "outputs": []
    },
    {
      "cell_type": "code",
      "source": [],
      "metadata": {
        "id": "VB8ZvqUXtRIf"
      },
      "execution_count": null,
      "outputs": []
    }
  ]
}